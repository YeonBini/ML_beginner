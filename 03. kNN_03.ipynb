{
 "cells": [
  {
   "cell_type": "code",
   "execution_count": 2,
   "metadata": {},
   "outputs": [],
   "source": [
    "import numpy as np\n",
    "import operator"
   ]
  },
  {
   "cell_type": "code",
   "execution_count": 8,
   "metadata": {},
   "outputs": [],
   "source": [
    "def createDataSet() :\n",
    "    group = np.array([[1.0, 1.1], [1.0, 1.0], [0.0,0.0], [0.0, 0.1]])\n",
    "    labels = ['A', 'A', 'B', 'B']\n",
    "    return group, labels"
   ]
  },
  {
   "cell_type": "code",
   "execution_count": 44,
   "metadata": {},
   "outputs": [],
   "source": [
    "def kNN(inX, trainingData, labels, k) :\n",
    "    dataSetSize = trainingData.shape[0]\n",
    "    diff = np.tile(inX, (dataSetSize, 1)) - trainingData\n",
    "    sqDiff = diff**2\n",
    "    sqDistance = sqDiff.sum(axis =1) \n",
    "    distance = sqDistance ** 0.5\n",
    "    sortedDist = distance.argsort()\n",
    "    \n",
    "    classCount = {} \n",
    "    for i in range(k) :\n",
    "        candidateLabel = labels[sortedDist[i]]\n",
    "        classCount[candidateLabel] = classCount.get(candidateLabel, 0) + 1\n",
    "    \n",
    "    sortedClassCount = sorted(classCount.items(), key = operator.itemgetter(1), reverse = True)\n",
    "    print(sortedClassCount)\n",
    "    return sortedClassCount[0][0]"
   ]
  },
  {
   "cell_type": "markdown",
   "metadata": {},
   "source": [
    "## sorted 사용법\n",
    "### list.sort() vs sorted() \n",
    "####  list.sort()\n",
    "  - 리스트 내부에서 정렬\n",
    "  \n",
    "#### sorted ()\n",
    "  - 정렬된 값을 리턴해준다\n",
    "  - 순회가능한 자료형에 대해 모두 동작 가능 \n",
    "  - value 기준으로 정렬하기 위해서는 key 값에 operator.itemgetter(1) 설정\n",
    "  - key 값 기준이라면 operator.itemgetter(0) 설정"
   ]
  },
  {
   "cell_type": "code",
   "execution_count": 32,
   "metadata": {},
   "outputs": [],
   "source": [
    "group, labels = createDataSet()"
   ]
  },
  {
   "cell_type": "code",
   "execution_count": 33,
   "metadata": {},
   "outputs": [
    {
     "data": {
      "text/plain": [
       "(4, 2)"
      ]
     },
     "execution_count": 33,
     "metadata": {},
     "output_type": "execute_result"
    }
   ],
   "source": [
    "group.shape"
   ]
  },
  {
   "cell_type": "code",
   "execution_count": 46,
   "metadata": {},
   "outputs": [
    {
     "name": "stdout",
     "output_type": "stream",
     "text": [
      "[('B', 2), ('A', 1)]\n"
     ]
    },
    {
     "data": {
      "text/plain": [
       "'B'"
      ]
     },
     "execution_count": 46,
     "metadata": {},
     "output_type": "execute_result"
    }
   ],
   "source": [
    "kNN(np.array([[0.0, 0.0]]), group, labels, 3)"
   ]
  },
  {
   "cell_type": "code",
   "execution_count": 28,
   "metadata": {},
   "outputs": [
    {
     "data": {
      "text/plain": [
       "operator.itemgetter(1)"
      ]
     },
     "execution_count": 28,
     "metadata": {},
     "output_type": "execute_result"
    }
   ],
   "source": [
    "operator.itemgetter(1)"
   ]
  },
  {
   "cell_type": "code",
   "execution_count": null,
   "metadata": {},
   "outputs": [],
   "source": []
  }
 ],
 "metadata": {
  "kernelspec": {
   "display_name": "Python 3",
   "language": "python",
   "name": "python3"
  },
  "language_info": {
   "codemirror_mode": {
    "name": "ipython",
    "version": 3
   },
   "file_extension": ".py",
   "mimetype": "text/x-python",
   "name": "python",
   "nbconvert_exporter": "python",
   "pygments_lexer": "ipython3",
   "version": "3.6.8"
  }
 },
 "nbformat": 4,
 "nbformat_minor": 2
}
