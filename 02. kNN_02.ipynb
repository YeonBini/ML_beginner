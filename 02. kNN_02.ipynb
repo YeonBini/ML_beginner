{
 "cells": [
  {
   "cell_type": "code",
   "execution_count": 1,
   "metadata": {},
   "outputs": [],
   "source": [
    "import numpy as np\n",
    "import matplotlib.pyplot as plt"
   ]
  },
  {
   "cell_type": "code",
   "execution_count": 2,
   "metadata": {},
   "outputs": [],
   "source": [
    "grape = [8, 5]\n",
    "fish = [2, 3]\n",
    "carrot = [7, 10]\n",
    "orange = [7, 3]\n",
    "celery = [3, 8]\n",
    "cheese = [1, 1]\n",
    "category = ['과일', '단백질', '채소', '과일', '채소', '단백질']"
   ]
  },
  {
   "cell_type": "code",
   "execution_count": 4,
   "metadata": {},
   "outputs": [
    {
     "name": "stdout",
     "output_type": "stream",
     "text": [
      "단만 입력(1~10) : 1\n",
      "아삭거림 입력(1~10) : 2\n"
     ]
    }
   ],
   "source": [
    "dan = int(input('단만 입력(1~10) : '))\n",
    "asac = int(input('아삭거림 입력(1~10) : '))"
   ]
  },
  {
   "cell_type": "code",
   "execution_count": 5,
   "metadata": {},
   "outputs": [],
   "source": [
    "target = [dan, asac]"
   ]
  },
  {
   "cell_type": "code",
   "execution_count": 9,
   "metadata": {},
   "outputs": [],
   "source": [
    "def data_set() :\n",
    "    dataset = np.array([grape, fish, carrot, orange, celery, cheese])\n",
    "    size = len(dataset)\n",
    "    class_target = np.tile(target, (size, 1))\n",
    "    class_category = np.array(category)\n",
    "    return dataset, class_target, class_category"
   ]
  },
  {
   "cell_type": "code",
   "execution_count": 11,
   "metadata": {},
   "outputs": [],
   "source": [
    "dataset, class_target, class_category = data_set()"
   ]
  },
  {
   "cell_type": "code",
   "execution_count": 12,
   "metadata": {},
   "outputs": [
    {
     "data": {
      "text/plain": [
       "array([[ 8,  5],\n",
       "       [ 2,  3],\n",
       "       [ 7, 10],\n",
       "       [ 7,  3],\n",
       "       [ 3,  8],\n",
       "       [ 1,  1]])"
      ]
     },
     "execution_count": 12,
     "metadata": {},
     "output_type": "execute_result"
    }
   ],
   "source": [
    "dataset"
   ]
  },
  {
   "cell_type": "code",
   "execution_count": 13,
   "metadata": {},
   "outputs": [
    {
     "data": {
      "text/plain": [
       "array([[1, 2],\n",
       "       [1, 2],\n",
       "       [1, 2],\n",
       "       [1, 2],\n",
       "       [1, 2],\n",
       "       [1, 2]])"
      ]
     },
     "execution_count": 13,
     "metadata": {},
     "output_type": "execute_result"
    }
   ],
   "source": [
    "class_target"
   ]
  },
  {
   "cell_type": "code",
   "execution_count": 14,
   "metadata": {},
   "outputs": [
    {
     "data": {
      "text/plain": [
       "array(['과일', '단백질', '채소', '과일', '채소', '단백질'], dtype='<U3')"
      ]
     },
     "execution_count": 14,
     "metadata": {},
     "output_type": "execute_result"
    }
   ],
   "source": [
    "class_category"
   ]
  },
  {
   "cell_type": "code",
   "execution_count": 56,
   "metadata": {},
   "outputs": [],
   "source": [
    "def classify(dataset, class_target, class_category, k) :\n",
    "    # 유클리드 거리 계산\n",
    "    diffMat = class_target - dataset # 두 점의 차 \n",
    "    sqDiffMat = diffMat ** 2 # 차에 대한 제곱 \n",
    "    row_sum = sqDiffMat.sum(axis = 1) # 차에 대한 제곱의 합 \n",
    "    distance = np.sqrt(row_sum) # 차의 제곱에 대한 합의 제곱근(최종 거리)\n",
    "#     print(np.frombuffer(distance.tostring(), dtype=float))\n",
    "    \n",
    "    \n",
    "    # 가까운 거리 오름차순 정렬\n",
    "    sortDist = distance.argsort()\n",
    "    print(np.frombuffer(sortDist.tostring))\n",
    "    # 이웃한 k개 선정\n",
    "    class_result = {}\n",
    "    for i in range(k) :\n",
    "        c = class_category[sortDist[i]]\n",
    "        class_result[c] = class_result.get(c,0) + 1 \n",
    "    \n",
    "    # print('class_result : ' + class_result)\n",
    "    return class_result"
   ]
  },
  {
   "cell_type": "code",
   "execution_count": 46,
   "metadata": {},
   "outputs": [
    {
     "name": "stdout",
     "output_type": "stream",
     "text": [
      "k값 입력(1,3 : )5\n"
     ]
    }
   ],
   "source": [
    "k = int(input('k값 입력(1,3 : )'))"
   ]
  },
  {
   "cell_type": "code",
   "execution_count": 57,
   "metadata": {},
   "outputs": [
    {
     "ename": "AttributeError",
     "evalue": "'builtin_function_or_method' object has no attribute '__buffer__'",
     "output_type": "error",
     "traceback": [
      "\u001b[0;31m---------------------------------------------------------------------------\u001b[0m",
      "\u001b[0;31mAttributeError\u001b[0m                            Traceback (most recent call last)",
      "\u001b[0;32m<ipython-input-57-9e6b28243eb0>\u001b[0m in \u001b[0;36m<module>\u001b[0;34m\u001b[0m\n\u001b[0;32m----> 1\u001b[0;31m \u001b[0mclass_result\u001b[0m \u001b[0;34m=\u001b[0m \u001b[0mclassify\u001b[0m\u001b[0;34m(\u001b[0m\u001b[0mdataset\u001b[0m\u001b[0;34m,\u001b[0m \u001b[0mclass_target\u001b[0m\u001b[0;34m,\u001b[0m \u001b[0mclass_category\u001b[0m\u001b[0;34m,\u001b[0m \u001b[0mk\u001b[0m\u001b[0;34m)\u001b[0m\u001b[0;34m\u001b[0m\u001b[0;34m\u001b[0m\u001b[0m\n\u001b[0m\u001b[1;32m      2\u001b[0m \u001b[0mprint\u001b[0m\u001b[0;34m(\u001b[0m\u001b[0mclass_result\u001b[0m\u001b[0;34m)\u001b[0m\u001b[0;34m\u001b[0m\u001b[0;34m\u001b[0m\u001b[0m\n",
      "\u001b[0;32m<ipython-input-56-0d23a917d939>\u001b[0m in \u001b[0;36mclassify\u001b[0;34m(dataset, class_target, class_category, k)\u001b[0m\n\u001b[1;32m     10\u001b[0m     \u001b[0;31m# 가까운 거리 오름차순 정렬\u001b[0m\u001b[0;34m\u001b[0m\u001b[0;34m\u001b[0m\u001b[0;34m\u001b[0m\u001b[0m\n\u001b[1;32m     11\u001b[0m     \u001b[0msortDist\u001b[0m \u001b[0;34m=\u001b[0m \u001b[0mdistance\u001b[0m\u001b[0;34m.\u001b[0m\u001b[0margsort\u001b[0m\u001b[0;34m(\u001b[0m\u001b[0;34m)\u001b[0m\u001b[0;34m\u001b[0m\u001b[0;34m\u001b[0m\u001b[0m\n\u001b[0;32m---> 12\u001b[0;31m     \u001b[0mprint\u001b[0m\u001b[0;34m(\u001b[0m\u001b[0mnp\u001b[0m\u001b[0;34m.\u001b[0m\u001b[0mfrombuffer\u001b[0m\u001b[0;34m(\u001b[0m\u001b[0msortDist\u001b[0m\u001b[0;34m.\u001b[0m\u001b[0mtostring\u001b[0m\u001b[0;34m)\u001b[0m\u001b[0;34m)\u001b[0m\u001b[0;34m\u001b[0m\u001b[0;34m\u001b[0m\u001b[0m\n\u001b[0m\u001b[1;32m     13\u001b[0m     \u001b[0;31m# 이웃한 k개 선정\u001b[0m\u001b[0;34m\u001b[0m\u001b[0;34m\u001b[0m\u001b[0;34m\u001b[0m\u001b[0m\n\u001b[1;32m     14\u001b[0m     \u001b[0mclass_result\u001b[0m \u001b[0;34m=\u001b[0m \u001b[0;34m{\u001b[0m\u001b[0;34m}\u001b[0m\u001b[0;34m\u001b[0m\u001b[0;34m\u001b[0m\u001b[0m\n",
      "\u001b[0;31mAttributeError\u001b[0m: 'builtin_function_or_method' object has no attribute '__buffer__'"
     ]
    }
   ],
   "source": [
    "class_result = classify(dataset, class_target, class_category, k) \n",
    "print(class_result)"
   ]
  },
  {
   "cell_type": "code",
   "execution_count": 51,
   "metadata": {},
   "outputs": [],
   "source": [
    "def classify_result(class_result) :\n",
    "    protein = fruit = vegetable = 0\n",
    "    \n",
    "    for c in class_result.keys() :\n",
    "        if c == '단백질' :\n",
    "            protein = class_result[c]\n",
    "        elif c == '과일' :\n",
    "            fruit = class_result[c] \n",
    "        else : \n",
    "            vegetable = class_result[c] \n",
    "            \n",
    "    if protein > fruit and protein > vegetable : \n",
    "        result = 'It classified as protein' \n",
    "    elif fruit > protein and fruit > vegetable : \n",
    "        result = 'It classified as fruit'\n",
    "    else :\n",
    "        result = 'It classified as vege'\n",
    "    \n",
    "    return result "
   ]
  },
  {
   "cell_type": "code",
   "execution_count": 52,
   "metadata": {},
   "outputs": [],
   "source": [
    "a = classify_result(class_result)"
   ]
  },
  {
   "cell_type": "code",
   "execution_count": 53,
   "metadata": {},
   "outputs": [
    {
     "data": {
      "text/plain": [
       "'It classified as vege'"
      ]
     },
     "execution_count": 53,
     "metadata": {},
     "output_type": "execute_result"
    }
   ],
   "source": [
    "a"
   ]
  },
  {
   "cell_type": "code",
   "execution_count": 47,
   "metadata": {},
   "outputs": [
    {
     "data": {
      "image/png": "[encoded data removed]",
      "text/plain": [
       "<Figure size 432x288 with 1 Axes>"
      ]
     },
     "metadata": {
      "needs_background": "light"
     },
     "output_type": "display_data"
    }
   ],
   "source": [
    "# 시각화(o= 과일, +=단밸질, *=채소\n",
    "plt.scatter(8, 5, marker='o')\n",
    "plt.scatter(2, 3, marker='+')   \n",
    "plt.scatter(7, 10, marker='*') \n",
    "plt.scatter(7, 3, marker='o')\n",
    "plt.scatter(3, 8, marker='+')\n",
    "plt.scatter(1, 1, marker='*')\n",
    "plt.scatter(dan, asac, color='red') # 분류대상 -> B집단 \n",
    "\n",
    "plt.show()\n"
   ]
  },
  {
   "cell_type": "code",
   "execution_count": null,
   "metadata": {},
   "outputs": [],
   "source": []
  }
 ],
 "metadata": {
  "kernelspec": {
   "display_name": "Python 3",
   "language": "python",
   "name": "python3"
  },
  "language_info": {
   "codemirror_mode": {
    "name": "ipython",
    "version": 3
   },
   "file_extension": ".py",
   "mimetype": "text/x-python",
   "name": "python",
   "nbconvert_exporter": "python",
   "pygments_lexer": "ipython3",
   "version": "3.6.8"
  }
 },
 "nbformat": 4,
 "nbformat_minor": 2
}
