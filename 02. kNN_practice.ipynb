{
 "cells": [
  {
   "cell_type": "code",
   "execution_count": 82,
   "metadata": {},
   "outputs": [],
   "source": [
    "import pandas as pd\n",
    "import numpy as np \n",
    "import operator"
   ]
  },
  {
   "cell_type": "code",
   "execution_count": 42,
   "metadata": {},
   "outputs": [],
   "source": [
    "r = open('data/kNN_data.txt', mode ='rt', encoding='utf-8')"
   ]
  },
  {
   "cell_type": "code",
   "execution_count": 43,
   "metadata": {},
   "outputs": [
    {
     "data": {
      "text/plain": [
       "'Height (in cms)\\tWeight (in kgs)\\tT Shirt Size\\n'"
      ]
     },
     "execution_count": 43,
     "metadata": {},
     "output_type": "execute_result"
    }
   ],
   "source": [
    "r.readline()"
   ]
  },
  {
   "cell_type": "code",
   "execution_count": 44,
   "metadata": {},
   "outputs": [],
   "source": [
    "lines = r.readlines()"
   ]
  },
  {
   "cell_type": "code",
   "execution_count": 45,
   "metadata": {},
   "outputs": [
    {
     "data": {
      "text/plain": [
       "['158\\t58\\tM\\n',\n",
       " '158\\t59\\tM\\n',\n",
       " '158\\t63\\tM\\n',\n",
       " '160\\t59\\tM\\n',\n",
       " '160\\t60\\tM\\n',\n",
       " '163\\t60\\tM\\n',\n",
       " '163\\t61\\tM\\n',\n",
       " '160\\t64\\tL\\n',\n",
       " '163\\t64\\tL\\n',\n",
       " '165\\t61\\tL\\n',\n",
       " '165\\t62\\tL\\n',\n",
       " '165\\t65\\tL\\n',\n",
       " '168\\t62\\tL\\n',\n",
       " '168\\t63\\tL\\n',\n",
       " '168\\t66\\tL\\n',\n",
       " '170\\t63\\tL\\n',\n",
       " '170\\t64\\tL\\n',\n",
       " '170\\t68\\tL\\n']"
      ]
     },
     "execution_count": 45,
     "metadata": {},
     "output_type": "execute_result"
    }
   ],
   "source": [
    "lines"
   ]
  },
  {
   "cell_type": "code",
   "execution_count": 50,
   "metadata": {},
   "outputs": [],
   "source": [
    "group = []\n",
    "labels = []\n",
    "for i in range(len(lines)) :\n",
    "    temp = lines[i].split('\\t')\n",
    "    group.append([int(temp[0]), int(temp[1])])\n",
    "    labels.append(temp[2].replace('\\n', ''))"
   ]
  },
  {
   "cell_type": "code",
   "execution_count": 86,
   "metadata": {},
   "outputs": [],
   "source": [
    "target = [160, 62]"
   ]
  },
  {
   "cell_type": "code",
   "execution_count": 87,
   "metadata": {},
   "outputs": [],
   "source": [
    "def dataset() :\n",
    "    dataset = np.array(group)\n",
    "    size = len(dataset)\n",
    "    class_target = np.tile(target, (size, 1))\n",
    "    class_category = np.array(labels)\n",
    "    return dataset, class_target, class_category"
   ]
  },
  {
   "cell_type": "code",
   "execution_count": 88,
   "metadata": {},
   "outputs": [],
   "source": [
    "dataset, class_target, class_category = dataset()"
   ]
  },
  {
   "cell_type": "code",
   "execution_count": 89,
   "metadata": {},
   "outputs": [],
   "source": [
    "def classify(dataset, class_target, class_category, k) :\n",
    "    diffMat = class_target - dataset\n",
    "    sqDiffMat = diffMat ** 2\n",
    "    row_sum = sqDiffMat.sum(axis = 1) \n",
    "    distance = np.sqrt(row_sum)\n",
    "    \n",
    "    sortDist = distance.argsort()\n",
    "    \n",
    "    class_result = {}\n",
    "    for i in range(k) :\n",
    "        c = class_category[sortDist[i]]\n",
    "        class_result[c] = class_result.get(c, 0) + 1\n",
    "        \n",
    "    return class_result"
   ]
  },
  {
   "cell_type": "code",
   "execution_count": 90,
   "metadata": {},
   "outputs": [],
   "source": [
    "class_result = classify(dataset, class_target, class_category, 3)"
   ]
  },
  {
   "cell_type": "code",
   "execution_count": 94,
   "metadata": {},
   "outputs": [],
   "source": [
    "def sort(class_result) : \n",
    "    sortedClassCount = sorted(class_result.items(), key = operator.itemgetter(1), reverse = True)\n",
    "    print(sortedClassCount)\n",
    "    return sortedClassCount[0][0]"
   ]
  },
  {
   "cell_type": "code",
   "execution_count": 95,
   "metadata": {},
   "outputs": [
    {
     "name": "stdout",
     "output_type": "stream",
     "text": [
      "[('M', 2), ('L', 1)]\n"
     ]
    }
   ],
   "source": [
    "result = sort(class_result)"
   ]
  },
  {
   "cell_type": "code",
   "execution_count": 96,
   "metadata": {},
   "outputs": [
    {
     "data": {
      "text/plain": [
       "'M'"
      ]
     },
     "execution_count": 96,
     "metadata": {},
     "output_type": "execute_result"
    }
   ],
   "source": [
    "result"
   ]
  },
  {
   "cell_type": "code",
   "execution_count": null,
   "metadata": {},
   "outputs": [],
   "source": []
  },
  {
   "cell_type": "code",
   "execution_count": null,
   "metadata": {},
   "outputs": [],
   "source": []
  }
 ],
 "metadata": {
  "kernelspec": {
   "display_name": "Python 3",
   "language": "python",
   "name": "python3"
  },
  "language_info": {
   "codemirror_mode": {
    "name": "ipython",
    "version": 3
   },
   "file_extension": ".py",
   "mimetype": "text/x-python",
   "name": "python",
   "nbconvert_exporter": "python",
   "pygments_lexer": "ipython3",
   "version": "3.6.8"
  }
 },
 "nbformat": 4,
 "nbformat_minor": 2
}
