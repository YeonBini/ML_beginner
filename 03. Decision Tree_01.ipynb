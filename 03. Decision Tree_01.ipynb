{
 "cells": [
  {
   "cell_type": "markdown",
   "metadata": {},
   "source": [
    "## 엔트로피 \n",
    "### 1. Entorpy \n",
    "- 엔트로피 공식\n",
    "    - T = p+ + p- (p+는 목표 대상 갯수)\n",
    "    - E(p+, p-) = - p+ * log(p+ / T) - p- * log(p- / T)\n",
    "### 1. Information Gain \n",
    "- information gain이 가장 큰 기준으로 의사결정트리 선정\n",
    "    - 전체 Entropy 공식 - 의사결정 상황에서의 Entropy 공식"
   ]
  },
  {
   "cell_type": "code",
   "execution_count": 3,
   "metadata": {},
   "outputs": [
    {
     "name": "stdout",
     "output_type": "stream",
     "text": [
      "0.24.2\n"
     ]
    }
   ],
   "source": [
    "import pandas as pd\n",
    "import numpy as np\n",
    "print(pd.__version__)"
   ]
  },
  {
   "cell_type": "code",
   "execution_count": 2,
   "metadata": {},
   "outputs": [
    {
     "name": "stdout",
     "output_type": "stream",
     "text": [
      "  no_insects no_dead no_wilting no_diseases tree_health\n",
      "0       True    True       True        True        Good\n",
      "1       True    True       True        True        Good\n",
      "2       True   False       True       False        Poor\n",
      "3      False    True       True        True        Good\n",
      "4       True    True       True        True        Good\n",
      "5       True    True       True        True        Good\n",
      "6       True   False      False       False        Poor\n",
      "7       True   False       True       False        Poor\n",
      "8       True    True       True        True        Good\n",
      "9      False   False       True        True        Poor\n"
     ]
    }
   ],
   "source": [
    "data = pd.DataFrame({\"no_insects\":[\"True\",\"True\",\"True\",\"False\",\"True\",\"True\",\"True\",\"True\",\"True\",\"False\"],\n",
    "                     \"no_dead\":[\"True\",\"True\",\"False\",\"True\",\"True\",\"True\",\"False\",\"False\",\"True\",\"False\"],\n",
    "                     \"no_wilting\":[\"True\",\"True\",\"True\",\"True\",\"True\",\"True\",\"False\",\"True\",\"True\",\"True\"],\n",
    "                     \"no_diseases\":[\"True\",\"True\",\"False\",\"True\",\"True\",\"True\",\"False\",\"False\",\"True\",\"True\"],\n",
    "                     \"tree_health\":[\"Good\",\"Good\",\"Poor\",\"Good\",\"Good\",\"Good\",\"Poor\",\"Poor\",\"Good\",\"Poor\"]}, \n",
    "                    columns=[\"no_insects\",\"no_dead\",\"no_wilting\",\"no_diseases\",\"tree_health\"])\n",
    "# 기술 속성(descriptive features)\n",
    "features = data[[\"no_insects\",\"no_dead\",\"no_wilting\",\"no_diseases\"]]\n",
    "# 대상 속성(target feature)\n",
    "target = data[\"tree_health\"]\n",
    "print(data)\n"
   ]
  },
  {
   "cell_type": "code",
   "execution_count": 10,
   "metadata": {},
   "outputs": [],
   "source": [
    "# 엔트로피\n",
    "def entropy(target_col) :\n",
    "    elements, counts = np.unique(target_col, return_counts = True)\n",
    "    print('elements : ', elements)\n",
    "    print('counts : ', counts)\n",
    "    entropy = -np.sum([(counts[i]/np.sum(counts))*np.log2(counts[i]/np.sum(counts)) for i in range(len(elements))])\n",
    "    return entropy"
   ]
  },
  {
   "cell_type": "code",
   "execution_count": 11,
   "metadata": {},
   "outputs": [
    {
     "name": "stdout",
     "output_type": "stream",
     "text": [
      "elements :  ['Good' 'Poor']\n",
      "counts :  [6 4]\n",
      "H(x) =  0.97095\n"
     ]
    }
   ],
   "source": [
    "print('H(x) = ', round(entropy(target), 5))"
   ]
  },
  {
   "cell_type": "code",
   "execution_count": 24,
   "metadata": {},
   "outputs": [],
   "source": [
    "# information gain\n",
    "def InfoGain(data, split_attribute_name, target_name) :\n",
    "    \n",
    "    # 전체 엔트로피 계산\n",
    "    total_entropy = entropy(data[target_name])\n",
    "    print(\"Entropy(D) = \", round(total_entropy, 5))\n",
    "    \n",
    "    # 가중 엔트로피 계산\n",
    "    vals, counts = np.unique(data[split_attribute_name], return_counts = True)\n",
    "    print('vals : ', vals)\n",
    "    print('counts W: ', counts)\n",
    "    Weighted_Entropy = np.sum([(counts[i]/np.sum(counts))\n",
    "                              * entropy(data.where(data[split_attribute_name]==vals[i]).dropna()[target_name]) \n",
    "                              for i in range(len(vals))])\n",
    "    print('H(',split_attribute_name,')= ', round(Weighted_Entropy, 5))\n",
    "    \n",
    "    # 정보 이득 계산\n",
    "    Information_Gain = total_entropy - Weighted_Entropy\n",
    "    return Information_Gain\n",
    "    "
   ]
  },
  {
   "cell_type": "code",
   "execution_count": 25,
   "metadata": {},
   "outputs": [
    {
     "name": "stdout",
     "output_type": "stream",
     "text": [
      "elements :  ['Good' 'Poor']\n",
      "counts :  [6 4]\n",
      "Entropy(D) =  0.97095\n",
      "vals :  ['False' 'True']\n",
      "counts W:  [2 8]\n",
      "elements :  ['Good' 'Poor']\n",
      "counts :  [1 1]\n",
      "elements :  ['Good' 'Poor']\n",
      "counts :  [5 3]\n",
      "H( no_insects )=  0.96355\n",
      "InfoGain( no_insects ) =  0.0074 \n",
      "\n",
      "elements :  ['Good' 'Poor']\n",
      "counts :  [6 4]\n",
      "Entropy(D) =  0.97095\n",
      "vals :  ['False' 'True']\n",
      "counts W:  [1 9]\n",
      "elements :  ['Poor']\n",
      "counts :  [1]\n",
      "elements :  ['Good' 'Poor']\n",
      "counts :  [6 3]\n",
      "H( no_wilting )=  0.82647\n",
      "InfoGain( no_wilting ) =  0.14448 \n",
      "\n",
      "elements :  ['Good' 'Poor']\n",
      "counts :  [6 4]\n",
      "Entropy(D) =  0.97095\n",
      "vals :  ['False' 'True']\n",
      "counts W:  [3 7]\n",
      "elements :  ['Poor']\n",
      "counts :  [3]\n",
      "elements :  ['Good' 'Poor']\n",
      "counts :  [6 1]\n",
      "H( no_diseases )=  0.41417\n",
      "InfoGain( no_diseases ) =  0.55678\n"
     ]
    }
   ],
   "source": [
    "print('InfoGain( no_insects ) = ', round(InfoGain(data, \"no_insects\", \"tree_health\"), 5), '\\n')\n",
    "print('InfoGain( no_wilting ) = ', round(InfoGain(data, \"no_wilting\", \"tree_health\"), 5), '\\n')\n",
    "print('InfoGain( no_diseases ) = ', round(InfoGain(data, \"no_diseases\", \"tree_health\"), 5))"
   ]
  },
  {
   "cell_type": "code",
   "execution_count": null,
   "metadata": {},
   "outputs": [],
   "source": []
  }
 ],
 "metadata": {
  "kernelspec": {
   "display_name": "Python 3",
   "language": "python",
   "name": "python3"
  },
  "language_info": {
   "codemirror_mode": {
    "name": "ipython",
    "version": 3
   },
   "file_extension": ".py",
   "mimetype": "text/x-python",
   "name": "python",
   "nbconvert_exporter": "python",
   "pygments_lexer": "ipython3",
   "version": "3.6.8"
  }
 },
 "nbformat": 4,
 "nbformat_minor": 2
}
