{
 "cells": [
  {
   "cell_type": "markdown",
   "metadata": {},
   "source": [
    "## 엔트로피 \n",
    "### 1. Entorpy \n",
    "- 엔트로피 공식\n",
    "    - T = p+ + p- (p+는 목표 대상 갯수)\n",
    "    - E(p+, p-) = - p+ * log(p+ / T) - p- * log(p- / T)\n",
    "### 1. Information Gain \n",
    "- information gain이 가장 큰 기준으로 의사결정트리 선정\n",
    "    - 전체 Entropy 공식 - 의사결정 상황에서의 Entropy 공식"
   ]
  },
  {
   "cell_type": "code",
   "execution_count": 3,
   "metadata": {},
   "outputs": [
    {
     "name": "stdout",
     "output_type": "stream",
     "text": [
      "0.24.2\n"
     ]
    }
   ],
   "source": [
    "import pandas as pd\n",
    "import numpy as np\n",
    "print(pd.__version__)"
   ]
  },
  {
   "cell_type": "code",
   "execution_count": 2,
   "metadata": {},
   "outputs": [
    {
     "name": "stdout",
     "output_type": "stream",
     "text": [
      "  no_insects no_dead no_wilting no_diseases tree_health\n",
      "0       True    True       True        True        Good\n",
      "1       True    True       True        True        Good\n",
      "2       True   False       True       False        Poor\n",
      "3      False    True       True        True        Good\n",
      "4       True    True       True        True        Good\n",
      "5       True    True       True        True        Good\n",
      "6       True   False      False       False        Poor\n",
      "7       True   False       True       False        Poor\n",
      "8       True    True       True        True        Good\n",
      "9      False   False       True        True        Poor\n"
     ]
    }
   ],
   "source": [
    "data = pd.DataFrame({\"no_insects\":[\"True\",\"True\",\"True\",\"False\",\"True\",\"True\",\"True\",\"True\",\"True\",\"False\"],\n",
    "                     \"no_dead\":[\"True\",\"True\",\"False\",\"True\",\"True\",\"True\",\"False\",\"False\",\"True\",\"False\"],\n",
    "                     \"no_wilting\":[\"True\",\"True\",\"True\",\"True\",\"True\",\"True\",\"False\",\"True\",\"True\",\"True\"],\n",
    "                     \"no_diseases\":[\"True\",\"True\",\"False\",\"True\",\"True\",\"True\",\"False\",\"False\",\"True\",\"True\"],\n",
    "                     \"tree_health\":[\"Good\",\"Good\",\"Poor\",\"Good\",\"Good\",\"Good\",\"Poor\",\"Poor\",\"Good\",\"Poor\"]}, \n",
    "                    columns=[\"no_insects\",\"no_dead\",\"no_wilting\",\"no_diseases\",\"tree_health\"])\n",
    "# 기술 속성(descriptive features)\n",
    "features = data[[\"no_insects\",\"no_dead\",\"no_wilting\",\"no_diseases\"]]\n",
    "# 대상 속성(target feature)\n",
    "target = data[\"tree_health\"]\n",
    "print(data)\n"
   ]
  },
  {
   "cell_type": "code",
   "execution_count": 10,
   "metadata": {},
   "outputs": [],
   "source": [
    "# 엔트로피\n",
    "def entropy(target_col) :\n",
    "    elements, counts = np.unique(target_col, return_counts = True)\n",
    "    print('elements : ', elements)\n",
    "    print('counts : ', counts)\n",
    "    entropy = -np.sum([(counts[i]/np.sum(counts))*np.log2(counts[i]/np.sum(counts)) for i in range(len(elements))])\n",
    "    return entropy"
   ]
  },
  {
   "cell_type": "code",
   "execution_count": 11,
   "metadata": {},
   "outputs": [
    {
     "name": "stdout",
     "output_type": "stream",
     "text": [
      "elements :  ['Good' 'Poor']\n",
      "counts :  [6 4]\n",
      "H(x) =  0.97095\n"
     ]
    }
   ],
   "source": [
    "print('H(x) = ', round(entropy(target), 5))"
   ]
  },
  {
   "cell_type": "code",
   "execution_count": 24,
   "metadata": {},
   "outputs": [],
   "source": [
    "# information gain\n",
    "def InfoGain(data, split_attribute_name, target_name) :\n",
    "    \n",
    "    # 전체 엔트로피 계산\n",
    "    total_entropy = entropy(data[target_name])\n",
    "    print(\"Entropy(D) = \", round(total_entropy, 5))\n",
    "    \n",
    "    # 가중 엔트로피 계산\n",
    "    vals, counts = np.unique(data[split_attribute_name], return_counts = True)\n",
    "    print('vals : ', vals)\n",
    "    print('counts W: ', counts)\n",
    "    Weighted_Entropy = np.sum([(counts[i]/np.sum(counts))\n",
    "                              * entropy(data.where(data[split_attribute_name]==vals[i]).dropna()[target_name]) \n",
    "                              for i in range(len(vals))])\n",
    "    print('H(',split_attribute_name,')= ', round(Weighted_Entropy, 5))\n",
    "    \n",
    "    # 정보 이득 계산\n",
    "    Information_Gain = total_entropy - Weighted_Entropy\n",
    "    return Information_Gain\n",
    "    "
   ]
  },
  {
   "cell_type": "code",
   "execution_count": 25,
   "metadata": {},
   "outputs": [
    {
     "name": "stdout",
     "output_type": "stream",
     "text": [
      "elements :  ['Good' 'Poor']\n",
      "counts :  [6 4]\n",
      "Entropy(D) =  0.97095\n",
      "vals :  ['False' 'True']\n",
      "counts W:  [2 8]\n",
      "elements :  ['Good' 'Poor']\n",
      "counts :  [1 1]\n",
      "elements :  ['Good' 'Poor']\n",
      "counts :  [5 3]\n",
      "H( no_insects )=  0.96355\n",
      "InfoGain( no_insects ) =  0.0074 \n",
      "\n",
      "elements :  ['Good' 'Poor']\n",
      "counts :  [6 4]\n",
      "Entropy(D) =  0.97095\n",
      "vals :  ['False' 'True']\n",
      "counts W:  [1 9]\n",
      "elements :  ['Poor']\n",
      "counts :  [1]\n",
      "elements :  ['Good' 'Poor']\n",
      "counts :  [6 3]\n",
      "H( no_wilting )=  0.82647\n",
      "InfoGain( no_wilting ) =  0.14448 \n",
      "\n",
      "elements :  ['Good' 'Poor']\n",
      "counts :  [6 4]\n",
      "Entropy(D) =  0.97095\n",
      "vals :  ['False' 'True']\n",
      "counts W:  [3 7]\n",
      "elements :  ['Poor']\n",
      "counts :  [3]\n",
      "elements :  ['Good' 'Poor']\n",
      "counts :  [6 1]\n",
      "H( no_diseases )=  0.41417\n",
      "InfoGain( no_diseases ) =  0.55678\n"
     ]
    }
   ],
   "source": [
    "print('InfoGain( no_insects ) = ', round(InfoGain(data, \"no_insects\", \"tree_health\"), 5), '\\n')\n",
    "print('InfoGain( no_wilting ) = ', round(InfoGain(data, \"no_wilting\", \"tree_health\"), 5), '\\n')\n",
    "print('InfoGain( no_diseases ) = ', round(InfoGain(data, \"no_diseases\", \"tree_health\"), 5))"
   ]
  },
  {
   "cell_type": "code",
   "execution_count": 43,
   "metadata": {},
   "outputs": [],
   "source": [
    "# ID3 알고리즘\n",
    "def ID3(data, original_data, features, target_attribute_name, parent_node_class = None) :\n",
    "    \n",
    "    # 중지기준 정의 \n",
    "    # 1. 대상 속성이 단일값을 가지면 : 해당 대상 속성 반환\n",
    "    if len(np.unique(data[target_attribute_name])) <= 1 :\n",
    "        return np.unique(data[target_attribute_name])\n",
    "    \n",
    "    # 2. 데이터가 없을 때 : 원본 데이터에서 최대값을 가지는 대상 속성 반환\n",
    "    elif len(data) == 0 :\n",
    "        return np.unique(original_data[target_attribute_name])\\\n",
    "    [np.argmax(np.unique(original_data[target_attribute_name], return_counts = True)[1])]\n",
    "    \n",
    "    # 3. 기술 속성이 없을 때 : 부모 노드의 대상 속성 반환 \n",
    "    elif len(features) == 0 :\n",
    "        return parent_node_class\n",
    "    \n",
    "    # 트리 성장\n",
    "    else : \n",
    "        # 부모노드의 대상 속성 정의(예 : Good)\n",
    "        parent_node_class = np.unique(original_data[target_attribute_name])\\\n",
    "                            [np.argmax(np.unique(original_data[target_attribute_name], return_counts = True)[1])]\n",
    "        \n",
    "        # 데이터를 분할할 속성 정의\n",
    "        item_values = [InfoGain(data, feature, target_attribute_name) for feature in features]\n",
    "        best_feature_index = np.argmax(item_values)\n",
    "        best_feature = features[best_feature_index]\n",
    "        \n",
    "        # 트리 구조 생성\n",
    "        tree = {best_feature : {}}\n",
    "        \n",
    "        # 최대 정보이득을 보인 기술 속성 제외 \n",
    "        features = [i for i in features if i != best_feature]\n",
    "        \n",
    "        # 가지 성장\n",
    "        for value in np.unique(data[best_feature]) :\n",
    "            # 데이터 분할 .dropna() : 결측값을 가진 행, 열 제거 \n",
    "            sub_data = data.where(data[best_feature] == value).dropna()\n",
    "            \n",
    "            # ID3 알고리즘 \n",
    "            subtree = ID3(sub_data, data, features, target_attribute_name, parent_node_class)\n",
    "            tree[best_feature][value] = subtree\n",
    "            \n",
    "        return tree\n",
    "            \n",
    "            "
   ]
  },
  {
   "cell_type": "code",
   "execution_count": 44,
   "metadata": {},
   "outputs": [
    {
     "name": "stdout",
     "output_type": "stream",
     "text": [
      "numpy.unique:  [6 4]\n",
      "numpy.max:  6\n",
      "numpy.argmax:  0\n"
     ]
    }
   ],
   "source": [
    "# numpy.unique: 고유값 반환\n",
    "print('numpy.unique: ', np.unique(data[\"tree_health\"], return_counts = True)[1])\n",
    "# numpy.max: 최대값 반환\n",
    "print('numpy.max: ', np.max(np.unique(data[\"tree_health\"], return_counts = True)[1]))\n",
    "# numpy.argmax: 최대값이 위치한  인덱스 반환\n",
    "print('numpy.argmax: ', np.argmax(np.unique(data[\"tree_health\"], return_counts = True)[1]))"
   ]
  },
  {
   "cell_type": "code",
   "execution_count": 42,
   "metadata": {},
   "outputs": [
    {
     "ename": "NameError",
     "evalue": "name 'feature' is not defined",
     "output_type": "error",
     "traceback": [
      "\u001b[0;31m---------------------------------------------------------------------------\u001b[0m",
      "\u001b[0;31mNameError\u001b[0m                                 Traceback (most recent call last)",
      "\u001b[0;32m<ipython-input-42-3a797f84596f>\u001b[0m in \u001b[0;36m<module>\u001b[0;34m\u001b[0m\n\u001b[0;32m----> 1\u001b[0;31m \u001b[0mtree\u001b[0m \u001b[0;34m=\u001b[0m \u001b[0mID3\u001b[0m\u001b[0;34m(\u001b[0m\u001b[0mdata\u001b[0m\u001b[0;34m,\u001b[0m \u001b[0mdata\u001b[0m\u001b[0;34m,\u001b[0m \u001b[0;34m[\u001b[0m\u001b[0;34m'no_insects'\u001b[0m\u001b[0;34m,\u001b[0m \u001b[0;34m'no_wilting'\u001b[0m\u001b[0;34m,\u001b[0m \u001b[0;34m'no_diseases'\u001b[0m\u001b[0;34m]\u001b[0m\u001b[0;34m,\u001b[0m \u001b[0;34m'tree_health'\u001b[0m\u001b[0;34m)\u001b[0m\u001b[0;34m\u001b[0m\u001b[0;34m\u001b[0m\u001b[0m\n\u001b[0m\u001b[1;32m      2\u001b[0m \u001b[0;32mfrom\u001b[0m \u001b[0mpprint\u001b[0m \u001b[0;32mimport\u001b[0m \u001b[0mpprint\u001b[0m\u001b[0;34m\u001b[0m\u001b[0;34m\u001b[0m\u001b[0m\n\u001b[1;32m      3\u001b[0m \u001b[0mpprint\u001b[0m\u001b[0;34m(\u001b[0m\u001b[0mtree\u001b[0m\u001b[0;34m)\u001b[0m\u001b[0;34m\u001b[0m\u001b[0;34m\u001b[0m\u001b[0m\n",
      "\u001b[0;32m<ipython-input-40-b3435dcf4660>\u001b[0m in \u001b[0;36mID3\u001b[0;34m(data, original_data, features, target_attribute_name, parent_node_class)\u001b[0m\n\u001b[1;32m     13\u001b[0m \u001b[0;34m\u001b[0m\u001b[0m\n\u001b[1;32m     14\u001b[0m     \u001b[0;31m# 3. 기술 속성이 없을 때 : 부모 노드의 대상 속성 반환\u001b[0m\u001b[0;34m\u001b[0m\u001b[0;34m\u001b[0m\u001b[0;34m\u001b[0m\u001b[0m\n\u001b[0;32m---> 15\u001b[0;31m     \u001b[0;32melif\u001b[0m \u001b[0mlen\u001b[0m\u001b[0;34m(\u001b[0m\u001b[0mfeature\u001b[0m\u001b[0;34m)\u001b[0m \u001b[0;34m==\u001b[0m \u001b[0;36m0\u001b[0m \u001b[0;34m:\u001b[0m\u001b[0;34m\u001b[0m\u001b[0;34m\u001b[0m\u001b[0m\n\u001b[0m\u001b[1;32m     16\u001b[0m         \u001b[0;32mreturn\u001b[0m \u001b[0mparent_node_class\u001b[0m\u001b[0;34m\u001b[0m\u001b[0;34m\u001b[0m\u001b[0m\n\u001b[1;32m     17\u001b[0m \u001b[0;34m\u001b[0m\u001b[0m\n",
      "\u001b[0;31mNameError\u001b[0m: name 'feature' is not defined"
     ]
    }
   ],
   "source": [
    "tree = ID3(data, data, ['no_insects', 'no_wilting', 'no_diseases'], 'tree_health')\n",
    "from pprint import pprint\n",
    "pprint(tree)"
   ]
  },
  {
   "cell_type": "code",
   "execution_count": null,
   "metadata": {},
   "outputs": [],
   "source": []
  },
  {
   "cell_type": "code",
   "execution_count": null,
   "metadata": {},
   "outputs": [],
   "source": []
  }
 ],
 "metadata": {
  "kernelspec": {
   "display_name": "Python 3",
   "language": "python",
   "name": "python3"
  },
  "language_info": {
   "codemirror_mode": {
    "name": "ipython",
    "version": 3
   },
   "file_extension": ".py",
   "mimetype": "text/x-python",
   "name": "python",
   "nbconvert_exporter": "python",
   "pygments_lexer": "ipython3",
   "version": "3.6.8"
  }
 },
 "nbformat": 4,
 "nbformat_minor": 2
}
