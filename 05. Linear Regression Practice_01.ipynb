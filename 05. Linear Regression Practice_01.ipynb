{
 "cells": [
  {
   "cell_type": "code",
   "execution_count": 1,
   "metadata": {},
   "outputs": [],
   "source": [
    "import numpy as np\n",
    "from matplotlib import pyplot as plt"
   ]
  },
  {
   "cell_type": "code",
   "execution_count": 2,
   "metadata": {},
   "outputs": [],
   "source": [
    "data = np.array([[100, 20], \n",
    "\t\t[150, 24], \n",
    "\t\t[300, 36], \n",
    "\t\t[400, 47], \n",
    "\t\t[130, 22], \n",
    "\t\t[240, 32],\n",
    "\t\t[350, 47], \n",
    "\t\t[200, 42], \n",
    "\t\t[100, 21], \n",
    "\t\t[110, 21], \n",
    "\t\t[190, 30], \n",
    "\t\t[120, 25], \n",
    "\t\t[130, 18], \n",
    "\t\t[270, 38], \n",
    "\t\t[255, 28]])"
   ]
  },
  {
   "cell_type": "code",
   "execution_count": 4,
   "metadata": {},
   "outputs": [
    {
     "data": {
      "image/png": "[encoded data removed]",
      "text/plain": [
       "<Figure size 432x288 with 1 Axes>"
      ]
     },
     "metadata": {
      "needs_background": "light"
     },
     "output_type": "display_data"
    }
   ],
   "source": [
    "plt.scatter(data[:, 0], data[:, 1])\n",
    "plt.title('Time / Distance')\n",
    "plt.xlabel('Delivery Distance (meter)')\n",
    "plt.ylabel('Time Consumed (minutes)')\n",
    "plt.axis([0, 420, 0, 50])\n",
    "plt.show()"
   ]
  },
  {
   "cell_type": "code",
   "execution_count": 8,
   "metadata": {},
   "outputs": [
    {
     "data": {
      "text/plain": [
       "array([[100,  20],\n",
       "       [150,  24],\n",
       "       [300,  36],\n",
       "       [400,  47],\n",
       "       [130,  22],\n",
       "       [240,  32],\n",
       "       [350,  47],\n",
       "       [200,  42],\n",
       "       [100,  21],\n",
       "       [110,  21],\n",
       "       [190,  30],\n",
       "       [120,  25],\n",
       "       [130,  18],\n",
       "       [270,  38],\n",
       "       [255,  28]])"
      ]
     },
     "execution_count": 8,
     "metadata": {},
     "output_type": "execute_result"
    }
   ],
   "source": [
    "data"
   ]
  },
  {
   "cell_type": "code",
   "execution_count": 10,
   "metadata": {},
   "outputs": [],
   "source": [
    "def qr_householder(A) :\n",
    "    m, n = A.shape\n",
    "    Q = np.eye(m)\n",
    "    R = A.copy() \n",
    "    \n",
    "    for j in range(n) :\n",
    "        # Find H = I - beta * u * u' to put zeros below R[j, j]\n",
    "        x = R[j:, j]\n",
    "        normx = np.linalg.norm(x)\n",
    "        rho = -np.sign(x[0])"
   ]
  },
  {
   "cell_type": "code",
   "execution_count": 13,
   "metadata": {},
   "outputs": [
    {
     "data": {
      "text/plain": [
       "872.8379001853666"
      ]
     },
     "execution_count": 13,
     "metadata": {},
     "output_type": "execute_result"
    }
   ],
   "source": [
    "np.linalg.norm(data)"
   ]
  },
  {
   "cell_type": "code",
   "execution_count": null,
   "metadata": {},
   "outputs": [],
   "source": []
  }
 ],
 "metadata": {
  "kernelspec": {
   "display_name": "Python 3",
   "language": "python",
   "name": "python3"
  },
  "language_info": {
   "codemirror_mode": {
    "name": "ipython",
    "version": 3
   },
   "file_extension": ".py",
   "mimetype": "text/x-python",
   "name": "python",
   "nbconvert_exporter": "python",
   "pygments_lexer": "ipython3",
   "version": "3.6.8"
  }
 },
 "nbformat": 4,
 "nbformat_minor": 2
}
