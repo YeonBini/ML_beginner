{
 "cells": [
  {
   "cell_type": "code",
   "execution_count": 2,
   "metadata": {},
   "outputs": [],
   "source": [
    "import numpy as np"
   ]
  },
  {
   "cell_type": "code",
   "execution_count": 6,
   "metadata": {},
   "outputs": [],
   "source": [
    "arr = np.arange(32)"
   ]
  },
  {
   "cell_type": "code",
   "execution_count": 10,
   "metadata": {},
   "outputs": [],
   "source": [
    "arr =arr.reshape(8,4)"
   ]
  },
  {
   "cell_type": "code",
   "execution_count": 11,
   "metadata": {},
   "outputs": [
    {
     "data": {
      "text/plain": [
       "array([[ 0,  1,  2,  3],\n",
       "       [ 4,  5,  6,  7],\n",
       "       [ 8,  9, 10, 11],\n",
       "       [12, 13, 14, 15],\n",
       "       [16, 17, 18, 19],\n",
       "       [20, 21, 22, 23],\n",
       "       [24, 25, 26, 27],\n",
       "       [28, 29, 30, 31]])"
      ]
     },
     "execution_count": 11,
     "metadata": {},
     "output_type": "execute_result"
    }
   ],
   "source": [
    "arr"
   ]
  },
  {
   "cell_type": "code",
   "execution_count": 16,
   "metadata": {},
   "outputs": [
    {
     "data": {
      "text/plain": [
       "array([4, 0])"
      ]
     },
     "execution_count": 16,
     "metadata": {},
     "output_type": "execute_result"
    }
   ],
   "source": [
    "arr[[1,0], [0,0]]"
   ]
  },
  {
   "cell_type": "code",
   "execution_count": 19,
   "metadata": {},
   "outputs": [
    {
     "data": {
      "text/plain": [
       "array([[[ 4,  7,  5,  6]],\n",
       "\n",
       "       [[20, 23, 21, 22]],\n",
       "\n",
       "       [[28, 31, 29, 30]],\n",
       "\n",
       "       [[ 8, 11,  9, 10]]])"
      ]
     },
     "execution_count": 19,
     "metadata": {},
     "output_type": "execute_result"
    }
   ],
   "source": [
    "arr[[1, 5, 7, 2]][: ,[[0, 3, 1, 2]]]"
   ]
  },
  {
   "cell_type": "code",
   "execution_count": 21,
   "metadata": {},
   "outputs": [
    {
     "data": {
      "text/plain": [
       "array([[ 0,  4,  8, 12, 16, 20, 24, 28],\n",
       "       [ 1,  5,  9, 13, 17, 21, 25, 29],\n",
       "       [ 2,  6, 10, 14, 18, 22, 26, 30],\n",
       "       [ 3,  7, 11, 15, 19, 23, 27, 31]])"
      ]
     },
     "execution_count": 21,
     "metadata": {},
     "output_type": "execute_result"
    }
   ],
   "source": [
    "arr.T"
   ]
  },
  {
   "cell_type": "code",
   "execution_count": 22,
   "metadata": {},
   "outputs": [],
   "source": [
    "arr = np.random.randn(6,3)"
   ]
  },
  {
   "cell_type": "code",
   "execution_count": 23,
   "metadata": {},
   "outputs": [
    {
     "data": {
      "text/plain": [
       "array([[-0.03384367,  0.82718531, -0.02401078],\n",
       "       [-0.03464211, -1.04535752,  0.9182217 ],\n",
       "       [ 1.01924476, -0.26276959, -0.6529153 ],\n",
       "       [ 0.39679754,  0.43463591, -0.68292621],\n",
       "       [ 0.52702727,  0.95018912,  0.6981447 ],\n",
       "       [ 0.74757364, -1.1239304 ,  0.30012159]])"
      ]
     },
     "execution_count": 23,
     "metadata": {},
     "output_type": "execute_result"
    }
   ],
   "source": [
    "arr"
   ]
  },
  {
   "cell_type": "code",
   "execution_count": 26,
   "metadata": {},
   "outputs": [
    {
     "data": {
      "text/plain": [
       "array([[ 2.03527774, -0.42659083, -0.37515617],\n",
       "       [-0.42659083,  4.20104302, -0.77893557],\n",
       "       [-0.37515617, -0.77893557,  2.31387319]])"
      ]
     },
     "execution_count": 26,
     "metadata": {},
     "output_type": "execute_result"
    }
   ],
   "source": [
    "np.dot(arr.T, arr)"
   ]
  },
  {
   "cell_type": "code",
   "execution_count": 27,
   "metadata": {},
   "outputs": [],
   "source": [
    "arr = np.arange(16).reshape((2,2,4))"
   ]
  },
  {
   "cell_type": "code",
   "execution_count": 31,
   "metadata": {},
   "outputs": [
    {
     "data": {
      "text/plain": [
       "array([[[ 0,  8],\n",
       "        [ 4, 12]],\n",
       "\n",
       "       [[ 1,  9],\n",
       "        [ 5, 13]],\n",
       "\n",
       "       [[ 2, 10],\n",
       "        [ 6, 14]],\n",
       "\n",
       "       [[ 3, 11],\n",
       "        [ 7, 15]]])"
      ]
     },
     "execution_count": 31,
     "metadata": {},
     "output_type": "execute_result"
    }
   ],
   "source": [
    "arr.T"
   ]
  },
  {
   "cell_type": "code",
   "execution_count": 44,
   "metadata": {},
   "outputs": [
    {
     "data": {
      "text/plain": [
       "(2, 2, 4)"
      ]
     },
     "execution_count": 44,
     "metadata": {},
     "output_type": "execute_result"
    }
   ],
   "source": [
    "arr.shape"
   ]
  },
  {
   "cell_type": "code",
   "execution_count": null,
   "metadata": {},
   "outputs": [],
   "source": [
    "arr[0][0][1]"
   ]
  },
  {
   "cell_type": "code",
   "execution_count": 48,
   "metadata": {},
   "outputs": [
    {
     "data": {
      "text/plain": [
       "8"
      ]
     },
     "execution_count": 48,
     "metadata": {},
     "output_type": "execute_result"
    }
   ],
   "source": [
    "arr[1][0][0]"
   ]
  },
  {
   "cell_type": "code",
   "execution_count": 50,
   "metadata": {},
   "outputs": [
    {
     "data": {
      "text/plain": [
       "array([[[ 0,  4],\n",
       "        [ 8, 12]],\n",
       "\n",
       "       [[ 1,  5],\n",
       "        [ 9, 13]],\n",
       "\n",
       "       [[ 2,  6],\n",
       "        [10, 14]],\n",
       "\n",
       "       [[ 3,  7],\n",
       "        [11, 15]]])"
      ]
     },
     "execution_count": 50,
     "metadata": {},
     "output_type": "execute_result"
    }
   ],
   "source": [
    "arr.transpose((2,0,1))"
   ]
  },
  {
   "cell_type": "code",
   "execution_count": 43,
   "metadata": {},
   "outputs": [
    {
     "data": {
      "text/plain": [
       "array([[[ 0,  1,  2,  3],\n",
       "        [ 4,  5,  6,  7]],\n",
       "\n",
       "       [[ 8,  9, 10, 11],\n",
       "        [12, 13, 14, 15]]])"
      ]
     },
     "execution_count": 43,
     "metadata": {},
     "output_type": "execute_result"
    }
   ],
   "source": [
    "arr.transpose((0,1,2))"
   ]
  },
  {
   "cell_type": "code",
   "execution_count": 55,
   "metadata": {},
   "outputs": [],
   "source": [
    "arr = np.arange(16)"
   ]
  },
  {
   "cell_type": "code",
   "execution_count": 57,
   "metadata": {},
   "outputs": [
    {
     "data": {
      "text/plain": [
       "array([0.        , 1.        , 1.41421356, 1.73205081, 2.        ,\n",
       "       2.23606798, 2.44948974, 2.64575131, 2.82842712, 3.        ,\n",
       "       3.16227766, 3.31662479, 3.46410162, 3.60555128, 3.74165739,\n",
       "       3.87298335])"
      ]
     },
     "execution_count": 57,
     "metadata": {},
     "output_type": "execute_result"
    }
   ],
   "source": [
    "np.sqrt(arr)"
   ]
  },
  {
   "cell_type": "code",
   "execution_count": 59,
   "metadata": {},
   "outputs": [
    {
     "data": {
      "text/plain": [
       "array([1.00000000e+00, 2.71828183e+00, 7.38905610e+00, 2.00855369e+01,\n",
       "       5.45981500e+01, 1.48413159e+02, 4.03428793e+02, 1.09663316e+03,\n",
       "       2.98095799e+03, 8.10308393e+03, 2.20264658e+04, 5.98741417e+04,\n",
       "       1.62754791e+05, 4.42413392e+05, 1.20260428e+06, 3.26901737e+06])"
      ]
     },
     "execution_count": 59,
     "metadata": {},
     "output_type": "execute_result"
    }
   ],
   "source": [
    "# np.exp -> 자연 상수 e의 지수함수 : e^x\n",
    "np.exp(arr)"
   ]
  },
  {
   "cell_type": "code",
   "execution_count": 62,
   "metadata": {
    "scrolled": true
   },
   "outputs": [
    {
     "data": {
      "text/plain": [
       "array([0.        , 1.        , 1.5849625 , 2.        , 2.32192809,\n",
       "       2.5849625 , 2.80735492, 3.        , 3.169925  , 3.32192809,\n",
       "       3.45943162, 3.5849625 , 3.70043972, 3.80735492, 3.9068906 ,\n",
       "       4.        ])"
      ]
     },
     "execution_count": 62,
     "metadata": {},
     "output_type": "execute_result"
    }
   ],
   "source": [
    "np.log2(arr+1)"
   ]
  },
  {
   "cell_type": "code",
   "execution_count": 63,
   "metadata": {},
   "outputs": [],
   "source": [
    "x = np.random.rand(8)"
   ]
  },
  {
   "cell_type": "code",
   "execution_count": 64,
   "metadata": {},
   "outputs": [],
   "source": [
    "y = np.random.rand(8)"
   ]
  },
  {
   "cell_type": "code",
   "execution_count": 65,
   "metadata": {},
   "outputs": [
    {
     "data": {
      "text/plain": [
       "array([0.5518992 , 0.25821006, 0.31241838, 0.53979681, 0.18700423,\n",
       "       0.30458576, 0.0979541 , 0.85715625])"
      ]
     },
     "execution_count": 65,
     "metadata": {},
     "output_type": "execute_result"
    }
   ],
   "source": [
    "x"
   ]
  },
  {
   "cell_type": "code",
   "execution_count": 66,
   "metadata": {},
   "outputs": [
    {
     "data": {
      "text/plain": [
       "array([0.19641992, 0.03695154, 0.40822618, 0.42535457, 0.64005466,\n",
       "       0.01311501, 0.71742435, 0.93184481])"
      ]
     },
     "execution_count": 66,
     "metadata": {},
     "output_type": "execute_result"
    }
   ],
   "source": [
    "y"
   ]
  },
  {
   "cell_type": "code",
   "execution_count": 67,
   "metadata": {},
   "outputs": [
    {
     "data": {
      "text/plain": [
       "array([0.5518992 , 0.25821006, 0.40822618, 0.53979681, 0.64005466,\n",
       "       0.30458576, 0.71742435, 0.93184481])"
      ]
     },
     "execution_count": 67,
     "metadata": {},
     "output_type": "execute_result"
    }
   ],
   "source": [
    "np.maximum(x, y)"
   ]
  },
  {
   "cell_type": "code",
   "execution_count": 68,
   "metadata": {},
   "outputs": [],
   "source": [
    "arr = np.random.rand(7) * 5"
   ]
  },
  {
   "cell_type": "code",
   "execution_count": 69,
   "metadata": {},
   "outputs": [
    {
     "data": {
      "text/plain": [
       "array([0.37861333, 1.33037681, 0.34815902, 2.20721258, 2.44262385,\n",
       "       3.0079798 , 0.13123018])"
      ]
     },
     "execution_count": 69,
     "metadata": {},
     "output_type": "execute_result"
    }
   ],
   "source": [
    "arr"
   ]
  },
  {
   "cell_type": "code",
   "execution_count": 70,
   "metadata": {},
   "outputs": [],
   "source": [
    "remainder, whole_part = np.modf(arr)"
   ]
  },
  {
   "cell_type": "code",
   "execution_count": 71,
   "metadata": {},
   "outputs": [
    {
     "data": {
      "text/plain": [
       "array([0.37861333, 0.33037681, 0.34815902, 0.20721258, 0.44262385,\n",
       "       0.0079798 , 0.13123018])"
      ]
     },
     "execution_count": 71,
     "metadata": {},
     "output_type": "execute_result"
    }
   ],
   "source": [
    "remainder"
   ]
  },
  {
   "cell_type": "code",
   "execution_count": 72,
   "metadata": {},
   "outputs": [
    {
     "data": {
      "text/plain": [
       "array([0., 1., 0., 2., 2., 3., 0.])"
      ]
     },
     "execution_count": 72,
     "metadata": {},
     "output_type": "execute_result"
    }
   ],
   "source": [
    "whole_part"
   ]
  },
  {
   "cell_type": "code",
   "execution_count": 76,
   "metadata": {},
   "outputs": [
    {
     "data": {
      "text/plain": [
       "(array([0.37861333, 0.33037681, 0.34815902, 0.20721258, 0.44262385,\n",
       "        0.0079798 , 0.13123018]), array([0., 1., 0., 2., 2., 3., 0.]))"
      ]
     },
     "execution_count": 76,
     "metadata": {},
     "output_type": "execute_result"
    }
   ],
   "source": [
    "np.modf(arr)"
   ]
  },
  {
   "cell_type": "code",
   "execution_count": 78,
   "metadata": {},
   "outputs": [
    {
     "data": {
      "text/plain": [
       "array([0.14334805, 1.76990245, 0.12121471, 4.87178739, 5.96641125,\n",
       "       9.04794246, 0.01722136])"
      ]
     },
     "execution_count": 78,
     "metadata": {},
     "output_type": "execute_result"
    }
   ],
   "source": [
    "np.square(arr)"
   ]
  },
  {
   "cell_type": "code",
   "execution_count": 79,
   "metadata": {},
   "outputs": [
    {
     "data": {
      "text/plain": [
       "array([1., 1., 1., 1., 1., 1., 1.])"
      ]
     },
     "execution_count": 79,
     "metadata": {},
     "output_type": "execute_result"
    }
   ],
   "source": [
    "np.sign(arr)"
   ]
  },
  {
   "cell_type": "code",
   "execution_count": 80,
   "metadata": {},
   "outputs": [
    {
     "data": {
      "text/plain": [
       "array([0., 1., 0., 2., 2., 3., 0.])"
      ]
     },
     "execution_count": 80,
     "metadata": {},
     "output_type": "execute_result"
    }
   ],
   "source": [
    "np.rint(arr)"
   ]
  },
  {
   "cell_type": "code",
   "execution_count": 81,
   "metadata": {},
   "outputs": [
    {
     "data": {
      "text/plain": [
       "array([False, False, False, False, False, False, False])"
      ]
     },
     "execution_count": 81,
     "metadata": {},
     "output_type": "execute_result"
    }
   ],
   "source": [
    "np.isnan(arr)"
   ]
  },
  {
   "cell_type": "code",
   "execution_count": 82,
   "metadata": {},
   "outputs": [
    {
     "data": {
      "text/plain": [
       "array([ True,  True,  True,  True,  True,  True,  True])"
      ]
     },
     "execution_count": 82,
     "metadata": {},
     "output_type": "execute_result"
    }
   ],
   "source": [
    "np.isfinite(arr)"
   ]
  },
  {
   "cell_type": "code",
   "execution_count": 83,
   "metadata": {},
   "outputs": [
    {
     "data": {
      "text/plain": [
       "array([0.75722666, 2.66075362, 0.69631805, 4.41442517, 4.88524769,\n",
       "       6.0159596 , 0.26246036])"
      ]
     },
     "execution_count": 83,
     "metadata": {},
     "output_type": "execute_result"
    }
   ],
   "source": [
    "np.add(arr,arr)"
   ]
  },
  {
   "cell_type": "code",
   "execution_count": 84,
   "metadata": {},
   "outputs": [
    {
     "data": {
      "text/plain": [
       "array([0., 0., 0., 0., 0., 0., 0.])"
      ]
     },
     "execution_count": 84,
     "metadata": {},
     "output_type": "execute_result"
    }
   ],
   "source": [
    "np.subtract(arr, arr)"
   ]
  },
  {
   "cell_type": "code",
   "execution_count": 85,
   "metadata": {},
   "outputs": [
    {
     "data": {
      "text/plain": [
       "array([ 0.35547928,  0.22125852, -0.0958078 ,  0.11444224, -0.45305043,\n",
       "        0.29147075, -0.61947025, -0.07468856])"
      ]
     },
     "execution_count": 85,
     "metadata": {},
     "output_type": "execute_result"
    }
   ],
   "source": [
    "np.subtract(x, y)"
   ]
  },
  {
   "cell_type": "code",
   "execution_count": 87,
   "metadata": {},
   "outputs": [],
   "source": [
    "points = np.arange(-5, 5, 0.01)"
   ]
  },
  {
   "cell_type": "code",
   "execution_count": 89,
   "metadata": {},
   "outputs": [
    {
     "data": {
      "text/plain": [
       "1000"
      ]
     },
     "execution_count": 89,
     "metadata": {},
     "output_type": "execute_result"
    }
   ],
   "source": [
    "len(points)"
   ]
  },
  {
   "cell_type": "code",
   "execution_count": 90,
   "metadata": {},
   "outputs": [],
   "source": [
    "xs, ys = np.meshgrid(points, points)"
   ]
  },
  {
   "cell_type": "code",
   "execution_count": 91,
   "metadata": {},
   "outputs": [
    {
     "data": {
      "text/plain": [
       "[array([[-5.  , -4.99, -4.98, ...,  4.97,  4.98,  4.99],\n",
       "        [-5.  , -4.99, -4.98, ...,  4.97,  4.98,  4.99],\n",
       "        [-5.  , -4.99, -4.98, ...,  4.97,  4.98,  4.99],\n",
       "        ...,\n",
       "        [-5.  , -4.99, -4.98, ...,  4.97,  4.98,  4.99],\n",
       "        [-5.  , -4.99, -4.98, ...,  4.97,  4.98,  4.99],\n",
       "        [-5.  , -4.99, -4.98, ...,  4.97,  4.98,  4.99]]),\n",
       " array([[-5.  , -5.  , -5.  , ..., -5.  , -5.  , -5.  ],\n",
       "        [-4.99, -4.99, -4.99, ..., -4.99, -4.99, -4.99],\n",
       "        [-4.98, -4.98, -4.98, ..., -4.98, -4.98, -4.98],\n",
       "        ...,\n",
       "        [ 4.97,  4.97,  4.97, ...,  4.97,  4.97,  4.97],\n",
       "        [ 4.98,  4.98,  4.98, ...,  4.98,  4.98,  4.98],\n",
       "        [ 4.99,  4.99,  4.99, ...,  4.99,  4.99,  4.99]])]"
      ]
     },
     "execution_count": 91,
     "metadata": {},
     "output_type": "execute_result"
    }
   ],
   "source": [
    "np.meshgrid(points, points)"
   ]
  },
  {
   "cell_type": "code",
   "execution_count": 92,
   "metadata": {},
   "outputs": [],
   "source": [
    "z= np.sqrt(xs**2 + ys**2)"
   ]
  },
  {
   "cell_type": "code",
   "execution_count": 100,
   "metadata": {},
   "outputs": [
    {
     "data": {
      "text/plain": [
       "array([[7.07106781, 7.06400028, 7.05693985, ..., 7.04988652, 7.05693985,\n",
       "        7.06400028],\n",
       "       [7.06400028, 7.05692568, 7.04985815, ..., 7.04279774, 7.04985815,\n",
       "        7.05692568],\n",
       "       [7.05693985, 7.04985815, 7.04278354, ..., 7.03571603, 7.04278354,\n",
       "        7.04985815],\n",
       "       ...,\n",
       "       [7.04988652, 7.04279774, 7.03571603, ..., 7.0286414 , 7.03571603,\n",
       "        7.04279774],\n",
       "       [7.05693985, 7.04985815, 7.04278354, ..., 7.03571603, 7.04278354,\n",
       "        7.04985815],\n",
       "       [7.06400028, 7.05692568, 7.04985815, ..., 7.04279774, 7.04985815,\n",
       "        7.05692568]])"
      ]
     },
     "execution_count": 100,
     "metadata": {},
     "output_type": "execute_result"
    }
   ],
   "source": [
    "z"
   ]
  },
  {
   "cell_type": "code",
   "execution_count": 94,
   "metadata": {},
   "outputs": [],
   "source": [
    "import matplotlib.pyplot as plt"
   ]
  },
  {
   "cell_type": "code",
   "execution_count": 98,
   "metadata": {},
   "outputs": [
    {
     "data": {
      "text/plain": [
       "Text(0.5, 1.0, 'Image plot of $\\\\sqrt{x^2 + y^2}$ for a grid of values')"
      ]
     },
     "execution_count": 98,
     "metadata": {},
     "output_type": "execute_result"
    },
    {
     "data": {
      "image/png": "[encoded data removed]",
      "text/plain": [
       "<Figure size 432x288 with 2 Axes>"
      ]
     },
     "metadata": {
      "needs_background": "light"
     },
     "output_type": "display_data"
    }
   ],
   "source": [
    "plt.imshow(z, cmap=plt.cm.gray); plt.colorbar()\n",
    "plt.title(\"Image plot of $\\sqrt{x^2 + y^2}$ for a grid of values\")"
   ]
  },
  {
   "cell_type": "code",
   "execution_count": 101,
   "metadata": {},
   "outputs": [],
   "source": [
    "xarr = np.array([1.1, 1.2, 1.3, 1.4, 1.5])"
   ]
  },
  {
   "cell_type": "code",
   "execution_count": 102,
   "metadata": {},
   "outputs": [],
   "source": [
    "yarr = np.array([2.1, 2.2, 2.3, 2.4, 2.5])"
   ]
  },
  {
   "cell_type": "code",
   "execution_count": 103,
   "metadata": {},
   "outputs": [],
   "source": [
    "cond = np.array([True, False, True, True, False])"
   ]
  },
  {
   "cell_type": "code",
   "execution_count": 105,
   "metadata": {},
   "outputs": [],
   "source": [
    "result = [(x if c else y) for x, y, c in zip(xarr, yarr, cond)]"
   ]
  },
  {
   "cell_type": "code",
   "execution_count": 106,
   "metadata": {},
   "outputs": [
    {
     "data": {
      "text/plain": [
       "[1.1, 2.2, 1.3, 1.4, 2.5]"
      ]
     },
     "execution_count": 106,
     "metadata": {},
     "output_type": "execute_result"
    }
   ],
   "source": [
    "result"
   ]
  },
  {
   "cell_type": "code",
   "execution_count": 111,
   "metadata": {},
   "outputs": [],
   "source": [
    "result = np.where(cond, xarr, yarr)"
   ]
  },
  {
   "cell_type": "code",
   "execution_count": 112,
   "metadata": {},
   "outputs": [
    {
     "data": {
      "text/plain": [
       "array([1.1, 2.2, 1.3, 1.4, 2.5])"
      ]
     },
     "execution_count": 112,
     "metadata": {},
     "output_type": "execute_result"
    }
   ],
   "source": [
    "result"
   ]
  },
  {
   "cell_type": "code",
   "execution_count": 128,
   "metadata": {},
   "outputs": [],
   "source": [
    "arr = np.random.rand(4,4)"
   ]
  },
  {
   "cell_type": "code",
   "execution_count": 129,
   "metadata": {},
   "outputs": [
    {
     "data": {
      "text/plain": [
       "array([[0.9338413 , 0.94637988, 0.60229666, 0.38776628],\n",
       "       [0.363188  , 0.20434528, 0.27676506, 0.24653588],\n",
       "       [0.173608  , 0.96660969, 0.9570126 , 0.59797368],\n",
       "       [0.73130075, 0.34038522, 0.0920556 , 0.46349802]])"
      ]
     },
     "execution_count": 129,
     "metadata": {},
     "output_type": "execute_result"
    }
   ],
   "source": [
    "arr"
   ]
  },
  {
   "cell_type": "code",
   "execution_count": 132,
   "metadata": {},
   "outputs": [],
   "source": [
    "result = np.where(arr > 0.5, 1, arr)"
   ]
  },
  {
   "cell_type": "code",
   "execution_count": 133,
   "metadata": {},
   "outputs": [
    {
     "data": {
      "text/plain": [
       "array([[1.        , 1.        , 1.        , 0.38776628],\n",
       "       [0.363188  , 0.20434528, 0.27676506, 0.24653588],\n",
       "       [0.173608  , 1.        , 1.        , 1.        ],\n",
       "       [1.        , 0.34038522, 0.0920556 , 0.46349802]])"
      ]
     },
     "execution_count": 133,
     "metadata": {},
     "output_type": "execute_result"
    }
   ],
   "source": [
    "result"
   ]
  },
  {
   "cell_type": "code",
   "execution_count": 134,
   "metadata": {},
   "outputs": [],
   "source": [
    "arr = np.random.rand(4,4)"
   ]
  },
  {
   "cell_type": "code",
   "execution_count": 135,
   "metadata": {},
   "outputs": [
    {
     "data": {
      "text/plain": [
       "array([[0.50869889, 0.08846017, 0.52803522, 0.99215804],\n",
       "       [0.39503593, 0.33559644, 0.80545054, 0.75434899],\n",
       "       [0.31306644, 0.63403668, 0.54040458, 0.29679375],\n",
       "       [0.1107879 , 0.3126403 , 0.45697913, 0.65894007]])"
      ]
     },
     "execution_count": 135,
     "metadata": {},
     "output_type": "execute_result"
    }
   ],
   "source": [
    "arr"
   ]
  },
  {
   "cell_type": "code",
   "execution_count": 136,
   "metadata": {},
   "outputs": [
    {
     "data": {
      "text/plain": [
       "array([2.11735233, 2.29043191, 1.78430145, 1.5393474 ])"
      ]
     },
     "execution_count": 136,
     "metadata": {},
     "output_type": "execute_result"
    }
   ],
   "source": [
    "arr.sum(axis=1) # 열 기준"
   ]
  },
  {
   "cell_type": "code",
   "execution_count": 137,
   "metadata": {},
   "outputs": [
    {
     "data": {
      "text/plain": [
       "array([1.32758917, 1.3707336 , 2.33086947, 2.70224085])"
      ]
     },
     "execution_count": 137,
     "metadata": {},
     "output_type": "execute_result"
    }
   ],
   "source": [
    "arr.sum(axis=0) # 행 기준"
   ]
  },
  {
   "cell_type": "code",
   "execution_count": 138,
   "metadata": {},
   "outputs": [],
   "source": [
    "arr = np.random.randn(10)"
   ]
  },
  {
   "cell_type": "code",
   "execution_count": 139,
   "metadata": {},
   "outputs": [
    {
     "data": {
      "text/plain": [
       "array([ 0.75045333, -1.30699234,  0.58057334, -1.10452309,  0.69012147,\n",
       "        0.68689007, -1.56668753,  0.90497412,  0.7788224 ,  0.42823287])"
      ]
     },
     "execution_count": 139,
     "metadata": {},
     "output_type": "execute_result"
    }
   ],
   "source": [
    "arr"
   ]
  },
  {
   "cell_type": "code",
   "execution_count": 140,
   "metadata": {},
   "outputs": [
    {
     "data": {
      "text/plain": [
       "7"
      ]
     },
     "execution_count": 140,
     "metadata": {},
     "output_type": "execute_result"
    }
   ],
   "source": [
    "(arr>0).sum()"
   ]
  },
  {
   "cell_type": "code",
   "execution_count": 141,
   "metadata": {},
   "outputs": [
    {
     "data": {
      "text/plain": [
       "array([ True, False,  True, False,  True,  True, False,  True,  True,\n",
       "        True])"
      ]
     },
     "execution_count": 141,
     "metadata": {},
     "output_type": "execute_result"
    }
   ],
   "source": [
    "arr>0"
   ]
  },
  {
   "cell_type": "code",
   "execution_count": 142,
   "metadata": {},
   "outputs": [],
   "source": [
    "bools = np.array([False, False, True, False])"
   ]
  },
  {
   "cell_type": "code",
   "execution_count": 143,
   "metadata": {},
   "outputs": [
    {
     "data": {
      "text/plain": [
       "True"
      ]
     },
     "execution_count": 143,
     "metadata": {},
     "output_type": "execute_result"
    }
   ],
   "source": [
    "bools.any()"
   ]
  },
  {
   "cell_type": "code",
   "execution_count": 145,
   "metadata": {},
   "outputs": [
    {
     "data": {
      "text/plain": [
       "False"
      ]
     },
     "execution_count": 145,
     "metadata": {},
     "output_type": "execute_result"
    }
   ],
   "source": [
    "bools.all()"
   ]
  },
  {
   "cell_type": "code",
   "execution_count": 146,
   "metadata": {},
   "outputs": [],
   "source": [
    "arr = np.random.randn(6)"
   ]
  },
  {
   "cell_type": "code",
   "execution_count": 147,
   "metadata": {},
   "outputs": [
    {
     "data": {
      "text/plain": [
       "array([ 0.10887199,  0.02828363, -0.57882582, -1.1994512 , -1.70595201,\n",
       "        0.36916396])"
      ]
     },
     "execution_count": 147,
     "metadata": {},
     "output_type": "execute_result"
    }
   ],
   "source": [
    "arr"
   ]
  },
  {
   "cell_type": "code",
   "execution_count": 148,
   "metadata": {},
   "outputs": [],
   "source": [
    "arr.sort()"
   ]
  },
  {
   "cell_type": "code",
   "execution_count": 149,
   "metadata": {},
   "outputs": [
    {
     "data": {
      "text/plain": [
       "array([-1.70595201, -1.1994512 , -0.57882582,  0.02828363,  0.10887199,\n",
       "        0.36916396])"
      ]
     },
     "execution_count": 149,
     "metadata": {},
     "output_type": "execute_result"
    }
   ],
   "source": [
    "arr"
   ]
  },
  {
   "cell_type": "code",
   "execution_count": 150,
   "metadata": {},
   "outputs": [],
   "source": [
    "arr = np.random.randn(5, 3)"
   ]
  },
  {
   "cell_type": "code",
   "execution_count": 151,
   "metadata": {},
   "outputs": [
    {
     "data": {
      "text/plain": [
       "array([[ 1.87657343, -0.37690335,  1.83193608],\n",
       "       [ 0.00301743, -0.07602347,  0.00395759],\n",
       "       [-0.18501411, -2.48715154, -1.70465121],\n",
       "       [-1.13626101, -2.97331547,  0.03331728],\n",
       "       [-0.24888867, -0.45017644,  0.1324278 ]])"
      ]
     },
     "execution_count": 151,
     "metadata": {},
     "output_type": "execute_result"
    }
   ],
   "source": [
    "arr"
   ]
  },
  {
   "cell_type": "code",
   "execution_count": 152,
   "metadata": {},
   "outputs": [],
   "source": [
    "arr.sort(1)"
   ]
  },
  {
   "cell_type": "code",
   "execution_count": 153,
   "metadata": {},
   "outputs": [
    {
     "data": {
      "text/plain": [
       "array([[-0.37690335,  1.83193608,  1.87657343],\n",
       "       [-0.07602347,  0.00301743,  0.00395759],\n",
       "       [-2.48715154, -1.70465121, -0.18501411],\n",
       "       [-2.97331547, -1.13626101,  0.03331728],\n",
       "       [-0.45017644, -0.24888867,  0.1324278 ]])"
      ]
     },
     "execution_count": 153,
     "metadata": {},
     "output_type": "execute_result"
    }
   ],
   "source": [
    "arr"
   ]
  },
  {
   "cell_type": "code",
   "execution_count": 154,
   "metadata": {},
   "outputs": [],
   "source": [
    "arr.sort(0)"
   ]
  },
  {
   "cell_type": "code",
   "execution_count": 155,
   "metadata": {},
   "outputs": [
    {
     "data": {
      "text/plain": [
       "array([[-2.97331547, -1.70465121, -0.18501411],\n",
       "       [-2.48715154, -1.13626101,  0.00395759],\n",
       "       [-0.45017644, -0.24888867,  0.03331728],\n",
       "       [-0.37690335,  0.00301743,  0.1324278 ],\n",
       "       [-0.07602347,  1.83193608,  1.87657343]])"
      ]
     },
     "execution_count": 155,
     "metadata": {},
     "output_type": "execute_result"
    }
   ],
   "source": [
    "arr"
   ]
  },
  {
   "cell_type": "code",
   "execution_count": 156,
   "metadata": {},
   "outputs": [],
   "source": [
    "large_arr = np.random.randn(1000)"
   ]
  },
  {
   "cell_type": "code",
   "execution_count": 157,
   "metadata": {},
   "outputs": [],
   "source": [
    "large_arr.sort()"
   ]
  },
  {
   "cell_type": "code",
   "execution_count": 158,
   "metadata": {},
   "outputs": [
    {
     "data": {
      "text/plain": [
       "array([-3.20995538, -2.89224041, -2.87496888, -2.75203766, -2.67435495,\n",
       "       -2.58576759, -2.52894751, -2.4370267 , -2.38861407, -2.30525815,\n",
       "       -2.2719055 , -2.26915699, -2.26861996, -2.26787692, -2.22925893,\n",
       "       -2.22151082, -2.21346061, -2.1851538 , -2.14185161, -2.13291037,\n",
       "       -2.13131466, -2.08427088, -2.06645372, -2.05090576, -2.04867192,\n",
       "       -2.02376353, -2.01518872, -2.00894262, -1.98982224, -1.98362094,\n",
       "       -1.97286405, -1.95808123, -1.95696755, -1.94454028, -1.93141286,\n",
       "       -1.90818478, -1.90590554, -1.88483439, -1.88111465, -1.84634161,\n",
       "       -1.84223417, -1.83387374, -1.79763758, -1.79000392, -1.76519385,\n",
       "       -1.73909927, -1.73539115, -1.72365143, -1.72319332, -1.71158305,\n",
       "       -1.68489996, -1.68138682, -1.6549968 , -1.65002519, -1.64560796,\n",
       "       -1.63767562, -1.6094389 , -1.60248453, -1.60141394, -1.54807741,\n",
       "       -1.54799256, -1.54061602, -1.53160182, -1.5164305 , -1.50758516,\n",
       "       -1.49772038, -1.47265713, -1.45824185, -1.4561056 , -1.45264067,\n",
       "       -1.44904593, -1.44743611, -1.43639203, -1.42976266, -1.4290669 ,\n",
       "       -1.42575628, -1.42465559, -1.41504292, -1.39699934, -1.39453272,\n",
       "       -1.38362216, -1.3801143 , -1.3687162 , -1.36534324, -1.36447657,\n",
       "       -1.35850294, -1.35590786, -1.34851188, -1.33716505, -1.32944562,\n",
       "       -1.32749098, -1.3245781 , -1.3227165 , -1.31762773, -1.31209853,\n",
       "       -1.30175659, -1.29811748, -1.29639181, -1.28557386, -1.28390481,\n",
       "       -1.27762908, -1.27105799, -1.27102304, -1.27031804, -1.26749599,\n",
       "       -1.26505769, -1.26260429, -1.25227751, -1.23992033, -1.22656743,\n",
       "       -1.2225053 , -1.22038699, -1.21725413, -1.21369154, -1.19943997,\n",
       "       -1.19388598, -1.19277138, -1.19078425, -1.18598356, -1.18441143,\n",
       "       -1.18079803, -1.16543173, -1.16323582, -1.16160195, -1.15772005,\n",
       "       -1.1477416 , -1.14177869, -1.1375424 , -1.13667271, -1.13609897,\n",
       "       -1.13149838, -1.12997105, -1.12745915, -1.12682828, -1.12648546,\n",
       "       -1.09860424, -1.09717198, -1.09455719, -1.09404293, -1.09268886,\n",
       "       -1.09179766, -1.09097595, -1.08125857, -1.07782608, -1.07224227,\n",
       "       -1.07173557, -1.06966627, -1.06605526, -1.06524615, -1.06244114,\n",
       "       -1.06146764, -1.05949973, -1.05837944, -1.04187437, -1.02807068,\n",
       "       -1.02553725, -1.02319884, -1.01648111, -1.01548936, -1.01447204,\n",
       "       -1.01221122, -1.01103512, -1.00401581, -1.00347453, -1.00338072,\n",
       "       -1.00134678, -0.99846607, -0.98598081, -0.98336264, -0.98281189,\n",
       "       -0.97623152, -0.96571566, -0.95816834, -0.95521588, -0.94697605,\n",
       "       -0.94432003, -0.9442706 , -0.93960244, -0.93692211, -0.93421584,\n",
       "       -0.93286094, -0.93258346, -0.93096965, -0.9292472 , -0.9272486 ,\n",
       "       -0.91947923, -0.91621994, -0.91342069, -0.91298932, -0.90703042,\n",
       "       -0.90525364, -0.90416521, -0.88796113, -0.88592525, -0.88569789,\n",
       "       -0.8853952 , -0.8847286 , -0.87826817, -0.87573084, -0.87399992,\n",
       "       -0.86995665, -0.8676595 , -0.86179918, -0.86037048, -0.85606202,\n",
       "       -0.85467279, -0.85224895, -0.84286055, -0.84281969, -0.84251599,\n",
       "       -0.82962774, -0.82828039, -0.82760174, -0.82353342, -0.82349887,\n",
       "       -0.82308786, -0.81342482, -0.81056012, -0.79047271, -0.78682452,\n",
       "       -0.78639503, -0.78587616, -0.78552144, -0.78043418, -0.7799983 ,\n",
       "       -0.76657298, -0.75552509, -0.7529456 , -0.75241418, -0.74304592,\n",
       "       -0.73798871, -0.73681484, -0.73233781, -0.73226071, -0.73016628,\n",
       "       -0.72752125, -0.72747083, -0.72730691, -0.72597531, -0.72215077,\n",
       "       -0.71174159, -0.71090242, -0.7044557 , -0.7044182 , -0.70323695,\n",
       "       -0.69753059, -0.69635074, -0.69494912, -0.6938752 , -0.69338785,\n",
       "       -0.68492174, -0.68365014, -0.67691517, -0.67356455, -0.66193771,\n",
       "       -0.66155694, -0.66013927, -0.65948406, -0.65751914, -0.65428085,\n",
       "       -0.65144358, -0.64799211, -0.64248113, -0.64075992, -0.63596982,\n",
       "       -0.63143225, -0.62944586, -0.6268539 , -0.62487219, -0.61662937,\n",
       "       -0.60618411, -0.60275937, -0.6017025 , -0.59998304, -0.59892263,\n",
       "       -0.59511384, -0.59137512, -0.58996743, -0.58970859, -0.58958207,\n",
       "       -0.58818878, -0.58573666, -0.58488933, -0.57884112, -0.57794627,\n",
       "       -0.5722639 , -0.56957365, -0.56931657, -0.56448466, -0.56117734,\n",
       "       -0.55869534, -0.55587443, -0.54981178, -0.54849228, -0.54319801,\n",
       "       -0.53939102, -0.53721915, -0.53664043, -0.53629036, -0.53439384,\n",
       "       -0.53279237, -0.52850564, -0.52833335, -0.52700342, -0.52564519,\n",
       "       -0.51766032, -0.51442989, -0.51086319, -0.50845289, -0.50356049,\n",
       "       -0.49772668, -0.49581834, -0.49517395, -0.49104597, -0.48811102,\n",
       "       -0.48256531, -0.48063216, -0.46940622, -0.4690278 , -0.46617213,\n",
       "       -0.46484257, -0.46398126, -0.46273031, -0.4582304 , -0.45706534,\n",
       "       -0.45619207, -0.45596835, -0.45592202, -0.4533997 , -0.4527133 ,\n",
       "       -0.45167227, -0.45036832, -0.44615386, -0.44558826, -0.44340799,\n",
       "       -0.43812092, -0.43728724, -0.43706442, -0.4237151 , -0.41581634,\n",
       "       -0.41546603, -0.41243382, -0.41149095, -0.41011201, -0.40906579,\n",
       "       -0.40720157, -0.40637869, -0.40508326, -0.4024956 , -0.40228992,\n",
       "       -0.39939138, -0.39928463, -0.39672495, -0.39661869, -0.39556563,\n",
       "       -0.38621991, -0.38234038, -0.3787363 , -0.3785028 , -0.37614737,\n",
       "       -0.37430288, -0.37219899, -0.36824556, -0.36649625, -0.36546199,\n",
       "       -0.35781685, -0.34845893, -0.34817064, -0.34502527, -0.34329768,\n",
       "       -0.33908543, -0.33898353, -0.33858048, -0.33733841, -0.33614363,\n",
       "       -0.33575684, -0.32840808, -0.32108899, -0.31983105, -0.31880742,\n",
       "       -0.31828531, -0.31300773, -0.31152511, -0.31134706, -0.30620639,\n",
       "       -0.30440285, -0.30290405, -0.30228442, -0.30175139, -0.29843567,\n",
       "       -0.29178645, -0.28559378, -0.28518087, -0.27803372, -0.27493981,\n",
       "       -0.27245181, -0.2688764 , -0.26759192, -0.2672253 , -0.26677816,\n",
       "       -0.26458368, -0.26051262, -0.25868959, -0.25597521, -0.25227004,\n",
       "       -0.24814982, -0.24801135, -0.2465973 , -0.24481232, -0.24134875,\n",
       "       -0.23871287, -0.23658235, -0.23575097, -0.23406889, -0.23298456,\n",
       "       -0.23028468, -0.23003581, -0.22951775, -0.22013056, -0.21636159,\n",
       "       -0.21606012, -0.21086735, -0.20958795, -0.20939878, -0.20268282,\n",
       "       -0.19779729, -0.19206908, -0.18618164, -0.1858056 , -0.18202083,\n",
       "       -0.17996332, -0.178894  , -0.17778293, -0.17689686, -0.17478155,\n",
       "       -0.17345609, -0.17228886, -0.17083041, -0.17045647, -0.16935302,\n",
       "       -0.16520955, -0.16425303, -0.1640254 , -0.15951737, -0.15859132,\n",
       "       -0.15726517, -0.15484845, -0.15168997, -0.15048806, -0.14829296,\n",
       "       -0.14505356, -0.14471977, -0.1425352 , -0.14231231, -0.1378587 ,\n",
       "       -0.13662938, -0.13587675, -0.13480131, -0.13210004, -0.13207671,\n",
       "       -0.12959656, -0.12620118, -0.12518484, -0.12518244, -0.1227857 ,\n",
       "       -0.1099954 , -0.10907396, -0.10890626, -0.10788918, -0.10777619,\n",
       "       -0.10746411, -0.10163797, -0.09891912, -0.09180805, -0.08885767,\n",
       "       -0.08799541, -0.08768374, -0.08605564, -0.08289853, -0.07954059,\n",
       "       -0.07936632, -0.07780688, -0.07684034, -0.07589977, -0.07515257,\n",
       "       -0.07149412, -0.06961566, -0.06340532, -0.0630788 , -0.06048302,\n",
       "       -0.05864391, -0.05816612, -0.05483024, -0.05454963, -0.05263497,\n",
       "       -0.0482617 , -0.04489492, -0.03766667, -0.03502705, -0.03354703,\n",
       "       -0.0310287 , -0.02860553, -0.02398076, -0.02117577, -0.01939759,\n",
       "       -0.01912275, -0.01821235, -0.0163454 , -0.01368886, -0.01355792,\n",
       "       -0.01203577, -0.01090659, -0.00984729, -0.00889866, -0.00845749,\n",
       "        0.0040088 ,  0.00631766,  0.01003714,  0.01286688,  0.01315304,\n",
       "        0.01632287,  0.01667237,  0.01760021,  0.02221393,  0.0235975 ,\n",
       "        0.02421534,  0.0251919 ,  0.02671428,  0.03087775,  0.03104795,\n",
       "        0.03192367,  0.03730766,  0.04127457,  0.04903746,  0.05371175,\n",
       "        0.05687216,  0.05971477,  0.06339993,  0.0664443 ,  0.06812571,\n",
       "        0.06925096,  0.07355255,  0.07455981,  0.07902572,  0.07971001,\n",
       "        0.08649406,  0.08652485,  0.08725798,  0.08822993,  0.08864979,\n",
       "        0.09157124,  0.09277642,  0.09513944,  0.09694034,  0.10177577,\n",
       "        0.10342902,  0.10571095,  0.10659762,  0.10714254,  0.10788413,\n",
       "        0.11182258,  0.11653332,  0.11760846,  0.12340671,  0.12355263,\n",
       "        0.12495398,  0.12521269,  0.13024846,  0.13042092,  0.13296228,\n",
       "        0.13329024,  0.13438281,  0.13511778,  0.13606129,  0.13639754,\n",
       "        0.13966758,  0.13986221,  0.14069506,  0.14614254,  0.14853199,\n",
       "        0.1503781 ,  0.15323003,  0.1585986 ,  0.1621556 ,  0.16564179,\n",
       "        0.16713678,  0.16979752,  0.17185883,  0.17637048,  0.1791239 ,\n",
       "        0.18234273,  0.18479276,  0.18813696,  0.18971879,  0.19291719,\n",
       "        0.20181386,  0.20985948,  0.21306592,  0.21309225,  0.2135901 ,\n",
       "        0.21421905,  0.22239081,  0.22382412,  0.22430285,  0.22451442,\n",
       "        0.22583875,  0.22621213,  0.23351937,  0.23807426,  0.23838465,\n",
       "        0.23889598,  0.23925986,  0.24074228,  0.24150689,  0.24420707,\n",
       "        0.24849462,  0.24991368,  0.25069798,  0.26294827,  0.26307669,\n",
       "        0.26393122,  0.26686482,  0.26998724,  0.27539348,  0.27653105,\n",
       "        0.2803223 ,  0.28544899,  0.28597294,  0.28675095,  0.28721299,\n",
       "        0.28763112,  0.28837742,  0.29283256,  0.30104946,  0.30198299,\n",
       "        0.30217683,  0.3025477 ,  0.30663585,  0.30743025,  0.31736798,\n",
       "        0.32128694,  0.32144427,  0.3231095 ,  0.32520629,  0.3266917 ,\n",
       "        0.32702616,  0.32724535,  0.32847784,  0.32870246,  0.32928251,\n",
       "        0.33107168,  0.35069281,  0.35280658,  0.35300518,  0.35564439,\n",
       "        0.35643089,  0.35962374,  0.36102542,  0.36522541,  0.36961115,\n",
       "        0.37589683,  0.37967322,  0.38378885,  0.38673364,  0.39143862,\n",
       "        0.39315819,  0.39841642,  0.40271751,  0.40359842,  0.40492907,\n",
       "        0.40770652,  0.41375865,  0.41841524,  0.42238022,  0.42345728,\n",
       "        0.42441825,  0.42967644,  0.43061328,  0.43586725,  0.44682625,\n",
       "        0.44909883,  0.4531942 ,  0.46034921,  0.46629937,  0.46800069,\n",
       "        0.47291346,  0.47594636,  0.4770923 ,  0.47969621,  0.48028838,\n",
       "        0.48041141,  0.4890536 ,  0.48923376,  0.49875049,  0.5070475 ,\n",
       "        0.51307438,  0.51834352,  0.52291736,  0.5229978 ,  0.52422365,\n",
       "        0.52454785,  0.52736913,  0.52738769,  0.53492759,  0.53644394,\n",
       "        0.5382461 ,  0.53846601,  0.53917245,  0.53981292,  0.54043276,\n",
       "        0.54171265,  0.54225733,  0.54317318,  0.54362793,  0.54545403,\n",
       "        0.5583469 ,  0.56485691,  0.56733342,  0.56775355,  0.56794338,\n",
       "        0.57255675,  0.57693406,  0.58240426,  0.58452074,  0.59002613,\n",
       "        0.59202327,  0.59233942,  0.59519151,  0.6030537 ,  0.60442354,\n",
       "        0.60909959,  0.61515219,  0.61775947,  0.62788768,  0.62969481,\n",
       "        0.63437909,  0.63550117,  0.64435936,  0.64534644,  0.64917293,\n",
       "        0.6523102 ,  0.65317585,  0.66289322,  0.66894731,  0.67249644,\n",
       "        0.68196488,  0.68411949,  0.68759279,  0.68767762,  0.6877597 ,\n",
       "        0.68892136,  0.69269606,  0.69339066,  0.69863077,  0.70004527,\n",
       "        0.70218451,  0.70453543,  0.71253894,  0.712748  ,  0.71453205,\n",
       "        0.7158373 ,  0.73699517,  0.7389539 ,  0.74414957,  0.74640215,\n",
       "        0.74705566,  0.74740342,  0.74832419,  0.75306219,  0.75637689,\n",
       "        0.75749952,  0.75760499,  0.7580425 ,  0.75872144,  0.75920433,\n",
       "        0.75969312,  0.76318365,  0.7644151 ,  0.76569543,  0.77081843,\n",
       "        0.773441  ,  0.7796263 ,  0.78378608,  0.78698147,  0.79042809,\n",
       "        0.79102615,  0.79129498,  0.7918792 ,  0.80549211,  0.81009787,\n",
       "        0.81169105,  0.81980615,  0.8231244 ,  0.8242892 ,  0.82555918,\n",
       "        0.83081956,  0.83153303,  0.84217249,  0.84786372,  0.86047541,\n",
       "        0.86216892,  0.86605917,  0.87121601,  0.87266313,  0.87605119,\n",
       "        0.88767178,  0.89459771,  0.90159226,  0.90505286,  0.90506544,\n",
       "        0.91147449,  0.91179656,  0.91272826,  0.91465664,  0.91674695,\n",
       "        0.91954365,  0.92700352,  0.9270533 ,  0.92910011,  0.94250688,\n",
       "        0.94900478,  0.94936086,  0.95227563,  0.95270524,  0.95295943,\n",
       "        0.95614998,  0.96369686,  0.96374453,  0.97155356,  0.97337371,\n",
       "        0.97914134,  0.98774703,  0.98820885,  0.99121885,  0.99294165,\n",
       "        1.00339756,  1.00948977,  1.00979354,  1.01013388,  1.01289623,\n",
       "        1.01495229,  1.01726434,  1.03039243,  1.0312822 ,  1.03234591,\n",
       "        1.03265375,  1.03291805,  1.03761234,  1.03963889,  1.0407175 ,\n",
       "        1.04233274,  1.05404247,  1.06582623,  1.06878568,  1.09079463,\n",
       "        1.09133091,  1.09181591,  1.09368665,  1.0937482 ,  1.09887599,\n",
       "        1.09972053,  1.11473389,  1.11676825,  1.1197161 ,  1.12555545,\n",
       "        1.12841475,  1.13118119,  1.13520167,  1.14307343,  1.14745744,\n",
       "        1.15996897,  1.16046637,  1.17052698,  1.17560948,  1.17695251,\n",
       "        1.17823916,  1.18100216,  1.19666146,  1.19741735,  1.19882394,\n",
       "        1.20332059,  1.21131851,  1.21658059,  1.22770549,  1.23690789,\n",
       "        1.23725351,  1.23826241,  1.24018982,  1.24108209,  1.25223156,\n",
       "        1.25372613,  1.26354484,  1.27031154,  1.2707549 ,  1.27203493,\n",
       "        1.27745203,  1.28290976,  1.28601747,  1.28870256,  1.29626259,\n",
       "        1.30834683,  1.31902001,  1.32423802,  1.32634484,  1.32813211,\n",
       "        1.32833309,  1.33473076,  1.34323688,  1.34495027,  1.35080137,\n",
       "        1.35476914,  1.35527256,  1.3655902 ,  1.36810522,  1.37485942,\n",
       "        1.38578377,  1.38760181,  1.41787894,  1.44760405,  1.44800142,\n",
       "        1.45542146,  1.47713538,  1.47911698,  1.48789443,  1.4905331 ,\n",
       "        1.49961056,  1.51753613,  1.51836207,  1.52230777,  1.52254309,\n",
       "        1.52358483,  1.5248626 ,  1.53875366,  1.54424956,  1.5477291 ,\n",
       "        1.55620837,  1.55931486,  1.57616672,  1.58617094,  1.58732124,\n",
       "        1.5957629 ,  1.603372  ,  1.6169399 ,  1.61774196,  1.6204684 ,\n",
       "        1.62820764,  1.65258564,  1.66353631,  1.6659047 ,  1.67179119,\n",
       "        1.70362399,  1.71650277,  1.73473118,  1.75517417,  1.7598211 ,\n",
       "        1.76686175,  1.77599359,  1.83630816,  1.83987094,  1.84452321,\n",
       "        1.87714287,  1.88470605,  1.90341642,  1.9406228 ,  1.94326226,\n",
       "        1.95443009,  1.97532817,  1.99027365,  1.99795152,  1.99985784,\n",
       "        2.01908612,  2.04671397,  2.06548614,  2.07479317,  2.07771223,\n",
       "        2.1247454 ,  2.13248673,  2.15621999,  2.18227591,  2.28863529,\n",
       "        2.29219365,  2.29865394,  2.29936947,  2.39707307,  2.40091831,\n",
       "        2.52707092,  2.53943203,  2.5492857 ,  2.57697768,  2.64741899,\n",
       "        2.70900195,  2.72133361,  2.74511796,  2.88396925,  2.8857518 ,\n",
       "        3.07557389,  3.17339052,  3.33420352,  3.46522715,  3.85793967])"
      ]
     },
     "execution_count": 158,
     "metadata": {},
     "output_type": "execute_result"
    }
   ],
   "source": [
    "large_arr[int()]"
   ]
  },
  {
   "cell_type": "code",
   "execution_count": null,
   "metadata": {},
   "outputs": [],
   "source": []
  }
 ],
 "metadata": {
  "kernelspec": {
   "display_name": "Python 3",
   "language": "python",
   "name": "python3"
  },
  "language_info": {
   "codemirror_mode": {
    "name": "ipython",
    "version": 3
   },
   "file_extension": ".py",
   "mimetype": "text/x-python",
   "name": "python",
   "nbconvert_exporter": "python",
   "pygments_lexer": "ipython3",
   "version": "3.6.8"
  }
 },
 "nbformat": 4,
 "nbformat_minor": 2
}
